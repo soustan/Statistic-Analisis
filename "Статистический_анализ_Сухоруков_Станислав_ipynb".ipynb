{
  "nbformat": 4,
  "nbformat_minor": 0,
  "metadata": {
    "colab": {
      "provenance": [],
      "mount_file_id": "1iYUUGzv7meXFnSrw1bMjkFGZL4usMwfi",
      "authorship_tag": "ABX9TyOGqHIYNzi0/u6UxKEJ7e/8",
      "include_colab_link": true
    },
    "kernelspec": {
      "name": "python3",
      "display_name": "Python 3"
    },
    "language_info": {
      "name": "python"
    }
  },
  "cells": [
    {
      "cell_type": "markdown",
      "metadata": {
        "id": "view-in-github",
        "colab_type": "text"
      },
      "source": [
        "<a href=\"https://colab.research.google.com/github/soustan/Statistic-Analisis/blob/main/%22%D0%A1%D1%82%D0%B0%D1%82%D0%B8%D1%81%D1%82%D0%B8%D1%87%D0%B5%D1%81%D0%BA%D0%B8%D0%B9_%D0%B0%D0%BD%D0%B0%D0%BB%D0%B8%D0%B7_%D0%A1%D1%83%D1%85%D0%BE%D1%80%D1%83%D0%BA%D0%BE%D0%B2_%D0%A1%D1%82%D0%B0%D0%BD%D0%B8%D1%81%D0%BB%D0%B0%D0%B2_ipynb%22.ipynb\" target=\"_parent\"><img src=\"https://colab.research.google.com/assets/colab-badge.svg\" alt=\"Open In Colab\"/></a>"
      ]
    },
    {
      "cell_type": "markdown",
      "source": [
        "Осуществляем загрузку DataSet и DataFrame."
      ],
      "metadata": {
        "id": "J_I6i3xDdCYw"
      }
    },
    {
      "cell_type": "code",
      "source": [
        "! gdown 1DIOotGM2fIoLaF54B2Q8cOrNMepyLGI8"
      ],
      "metadata": {
        "colab": {
          "base_uri": "https://localhost:8080/"
        },
        "id": "Ahd66uYcdiym",
        "outputId": "5beeb328-6e25-4d6f-d3b1-1ae147543627"
      },
      "execution_count": 40,
      "outputs": [
        {
          "output_type": "stream",
          "name": "stdout",
          "text": [
            "Downloading...\n",
            "From: https://drive.google.com/uc?id=1DIOotGM2fIoLaF54B2Q8cOrNMepyLGI8\n",
            "To: /content/region_roles_26_05_22.xlsx\n",
            "100% 84.4M/84.4M [00:00<00:00, 244MB/s]\n"
          ]
        }
      ]
    },
    {
      "cell_type": "markdown",
      "source": [
        "Осуществляем импорт библиотеки Pandas и низкоуровневой структуры (тип данных) и модулей и включённые в эти модули объекты. \n",
        "А именно: \n",
        "NumPy, \n",
        "pandas, \n",
        "matplotlib.pyplot, \n",
        "scipy, \n",
        "seaborn, \n",
        "statsmodels.api, \n",
        "sklearn.linear_model."
      ],
      "metadata": {
        "id": "vEXl7JZmgWAv"
      }
    },
    {
      "cell_type": "code",
      "source": [
        "import numpy as np\n",
        "import pandas as pd\n",
        "import json\n",
        "import matplotlib.pyplot as plt\n",
        "import scipy\n",
        "import seaborn as sns\n",
        "import sklearn.linear_model as lm\n",
        "import statsmodels.api as sm\n",
        "import statsmodels.api as smf\n",
        "import statsmodels.api as stats"
      ],
      "metadata": {
        "id": "gq1TUzkLpHs8"
      },
      "execution_count": 41,
      "outputs": []
    },
    {
      "cell_type": "code",
      "source": [
        "reg_rol = pd.read_excel('region_roles_26_05_22.xlsx')"
      ],
      "metadata": {
        "id": "VOjmVuKLrV1w"
      },
      "execution_count": 42,
      "outputs": []
    },
    {
      "cell_type": "code",
      "source": [
        "reg_rol['salary_js'] = reg_rol['salary'].fillna('{}').apply(eval)\n",
        "\n",
        "def get_values_from(json):\n",
        "    try:\n",
        "        return json['from']\n",
        "    except:\n",
        "        return None\n",
        "\n",
        "def get_currency(json):\n",
        "    try:\n",
        "        return json['currency']\n",
        "    except:\n",
        "        return None\n",
        "\n",
        "def get_gross(json):\n",
        "    try:\n",
        "        return json['gross']\n",
        "    except:\n",
        "        return None\n",
        "\n",
        "reg_rol['salary_from'] = reg_rol['salary_js'].apply(get_values_from)\n",
        "reg_rol['salary_currency'] = reg_rol['salary_js'].apply(get_currency)\n",
        "reg_rol['salary_gross'] = reg_rol['salary_js'].apply(get_gross)\n",
        "\n",
        "for a in range(len(reg_rol['salary_currency'])):\n",
        "    if reg_rol['salary_currency'][a] == 'USD': \n",
        "        reg_rol['salary_from'][a] *= 60.97\n",
        "        reg_rol['salary_currency'][a] = 'RUR'\n",
        "    elif reg_rol['salary_currency'][a] == 'EUR':\n",
        "        reg_rol['salary_from'][a] *= 60.82\n",
        "        reg_rol['salary_currency'][a] = 'RUR'\n",
        "    elif reg_rol['salary_currency'][a] == 'KZT':\n",
        "        reg_rol['salary_from'][a] *= 13.13\n",
        "        reg_rol['salary_currency'][a] = 'RUR'\n",
        "    a += 1  \n",
        "\n",
        "for b in range(len(reg_rol['salary_gross'])):\n",
        "    if reg_rol['salary_gross'][b] == 'True':\n",
        "        reg_rol['salary_from'][b] *= 0.87\n",
        "    b += 1\n",
        "filter_mrot_from = (reg_rol['salary_from'] > 13890)\n",
        "reg_rol = reg_rol[filter_mrot_from]\n",
        "reg_rol['salary_from'] = reg_rol['salary_from'].apply(int)"
      ],
      "metadata": {
        "colab": {
          "base_uri": "https://localhost:8080/"
        },
        "id": "N2tRMC00qzNB",
        "outputId": "bf10fb18-12b6-44b0-f55c-80a27e20c9ed"
      },
      "execution_count": 43,
      "outputs": [
        {
          "output_type": "stream",
          "name": "stderr",
          "text": [
            "/usr/local/lib/python3.7/dist-packages/ipykernel_launcher.py:27: SettingWithCopyWarning: \n",
            "A value is trying to be set on a copy of a slice from a DataFrame\n",
            "\n",
            "See the caveats in the documentation: https://pandas.pydata.org/pandas-docs/stable/user_guide/indexing.html#returning-a-view-versus-a-copy\n",
            "/usr/local/lib/python3.7/dist-packages/ipykernel_launcher.py:28: SettingWithCopyWarning: \n",
            "A value is trying to be set on a copy of a slice from a DataFrame\n",
            "\n",
            "See the caveats in the documentation: https://pandas.pydata.org/pandas-docs/stable/user_guide/indexing.html#returning-a-view-versus-a-copy\n",
            "/usr/local/lib/python3.7/dist-packages/ipykernel_launcher.py:30: SettingWithCopyWarning: \n",
            "A value is trying to be set on a copy of a slice from a DataFrame\n",
            "\n",
            "See the caveats in the documentation: https://pandas.pydata.org/pandas-docs/stable/user_guide/indexing.html#returning-a-view-versus-a-copy\n",
            "/usr/local/lib/python3.7/dist-packages/ipykernel_launcher.py:31: SettingWithCopyWarning: \n",
            "A value is trying to be set on a copy of a slice from a DataFrame\n",
            "\n",
            "See the caveats in the documentation: https://pandas.pydata.org/pandas-docs/stable/user_guide/indexing.html#returning-a-view-versus-a-copy\n",
            "/usr/local/lib/python3.7/dist-packages/ipykernel_launcher.py:33: SettingWithCopyWarning: \n",
            "A value is trying to be set on a copy of a slice from a DataFrame\n",
            "\n",
            "See the caveats in the documentation: https://pandas.pydata.org/pandas-docs/stable/user_guide/indexing.html#returning-a-view-versus-a-copy\n",
            "/usr/local/lib/python3.7/dist-packages/ipykernel_launcher.py:34: SettingWithCopyWarning: \n",
            "A value is trying to be set on a copy of a slice from a DataFrame\n",
            "\n",
            "See the caveats in the documentation: https://pandas.pydata.org/pandas-docs/stable/user_guide/indexing.html#returning-a-view-versus-a-copy\n",
            "/usr/local/lib/python3.7/dist-packages/ipykernel_launcher.py:43: SettingWithCopyWarning: \n",
            "A value is trying to be set on a copy of a slice from a DataFrame.\n",
            "Try using .loc[row_indexer,col_indexer] = value instead\n",
            "\n",
            "See the caveats in the documentation: https://pandas.pydata.org/pandas-docs/stable/user_guide/indexing.html#returning-a-view-versus-a-copy\n"
          ]
        }
      ]
    },
    {
      "cell_type": "code",
      "source": [
        "def get_values_name(json):\n",
        "    try:\n",
        "        return json['name']\n",
        "    except:\n",
        "        return None\n",
        "\n",
        "reg_rol['experience_js'] = reg_rol['experience'].fillna('{}').apply(eval)\n",
        "reg_rol['experience_nm'] = reg_rol['experience_js'].apply(get_values_name)\n",
        "reg_rol['schedule_js'] = reg_rol['schedule'].fillna('{}').apply(eval)\n",
        "reg_rol['schedule_nm'] = reg_rol['schedule_js'].apply(get_values_name)"
      ],
      "metadata": {
        "id": "BFJuvlWfybNh"
      },
      "execution_count": 44,
      "outputs": []
    },
    {
      "cell_type": "code",
      "source": [
        "reg_rol_new = reg_rol[['name', 'salary_from', 'region', 'experience_nm', 'schedule_nm']]"
      ],
      "metadata": {
        "id": "Iv5EZZCazgu0"
      },
      "execution_count": 45,
      "outputs": []
    },
    {
      "cell_type": "markdown",
      "source": [
        "В качестве описания указываем типы данных при формировании нового DataSet - reg_rol_new:\n",
        "\n",
        "salary_from (нижний уровень зарплаты) - количественный тип ;\n",
        "name (наименование вакансии) - категориальный тип ;\n",
        "region (регион, в коором размещена вакансия) - категориальный тип ;\n",
        "schedule_nm (график работы) - категориальный тип ;\n",
        "experience_nm (требуемый опыт работы) - категориальный тип (который в данном случае имеется возможность привести к порядковому типу данных)\n",
        "(Источник данных взят отсюда ---> https://habr.com/ru/post/527860/ ) ;"
      ],
      "metadata": {
        "id": "3yMvZ1nl1yfA"
      }
    },
    {
      "cell_type": "markdown",
      "source": [
        "Теперь стоит отобразить полученные в результате данные:"
      ],
      "metadata": {
        "id": "Un8QosAE4vxD"
      }
    },
    {
      "cell_type": "code",
      "source": [
        "reg_rol_new['salary_from'].describe().apply(lambda x: format(x, 'f'))"
      ],
      "metadata": {
        "colab": {
          "base_uri": "https://localhost:8080/"
        },
        "id": "6jo_26QO466w",
        "outputId": "bb213046-7a5c-4644-d114-2f4e9f6b73d8"
      },
      "execution_count": 46,
      "outputs": [
        {
          "output_type": "execute_result",
          "data": {
            "text/plain": [
              "count      33658.000000\n",
              "mean       79200.305336\n",
              "std        74747.595484\n",
              "min        13900.000000\n",
              "25%        40000.000000\n",
              "50%        60000.000000\n",
              "75%       100000.000000\n",
              "max      5252000.000000\n",
              "Name: salary_from, dtype: object"
            ]
          },
          "metadata": {},
          "execution_count": 46
        }
      ]
    },
    {
      "cell_type": "markdown",
      "source": [
        "Далее, переходим к анализу зарплат. Для этого создадим boxplot (\"ящик с усами\") при распределении уровня зарплат. Необходимость данного шага, обусловлена потребностями получения показателей: медианы(50%) и соответственно квартилей (25% и 75 %). А так же необходимостью определить, какими будут границы выбросов."
      ],
      "metadata": {
        "id": "ACh35iNV5fsm"
      }
    },
    {
      "cell_type": "code",
      "source": [
        "cx = reg_rol_new['salary_from'].plot.box()\n",
        "cx.set_xticklabels(['Начальная зарплата'])\n",
        "plt.title('Показатели начальной зарплаты', fontsize=12)\n",
        "plt.axis(ymin=0, ymax=250000)\n",
        "plt.show()"
      ],
      "metadata": {
        "colab": {
          "base_uri": "https://localhost:8080/",
          "height": 281
        },
        "id": "gdOZRPgf7gKy",
        "outputId": "a85deb24-9261-4264-82dc-ffc972a709d9"
      },
      "execution_count": 47,
      "outputs": [
        {
          "output_type": "display_data",
          "data": {
            "text/plain": [
              "<Figure size 432x288 with 1 Axes>"
            ],
            "image/png": "[encoded data removed]"
          },
          "metadata": {
            "needs_background": "light"
          }
        }
      ]
    },
    {
      "cell_type": "markdown",
      "source": [
        "Как видно на графике boxplot столбца минимальной зарплаты указывает нам, что характерные показатели столбца расположены в значениях до 200000 рублей. При этом, 75 % от всего количества вакансий включают начальную зарплату до 100000 рублей. \n",
        "На основании полученной информации и данных, будем строить гистограмму распределения зарплат по интервалам."
      ],
      "metadata": {
        "id": "ZgsBSxR08Fq9"
      }
    },
    {
      "cell_type": "code",
      "source": [
        "reg_rol_new['salary_from'].plot(kind=\"hist\", bins=[bin for bin in range(0, 500000, 25000)], \n",
        "                           figsize=(15, 8), \n",
        "                           xticks = [tick for tick in range(0, 530000, 30000)],\n",
        "                           yticks = [tick for tick in range(0, 13000, 1000)],\n",
        "                           grid=True)\n",
        "plt.title(\"Распределение нижней границы зарплаты по количеству вакансий\", fontsize = 16)\n",
        "plt.ylabel('Количество вакансий', fontsize = 14)\n",
        "plt.xlabel('Нижняя граница зарплаты, рублей', fontsize = 14)\n",
        "plt.show()"
      ],
      "metadata": {
        "colab": {
          "base_uri": "https://localhost:8080/",
          "height": 519
        },
        "id": "daP6c6i29mtm",
        "outputId": "0cc2800b-6bda-47fa-b5c4-0c2b370ed8f5"
      },
      "execution_count": 48,
      "outputs": [
        {
          "output_type": "display_data",
          "data": {
            "text/plain": [
              "<Figure size 1080x576 with 1 Axes>"
            ],
            "image/png": "[encoded data removed]"
          },
          "metadata": {
            "needs_background": "light"
          }
        }
      ]
    },
    {
      "cell_type": "markdown",
      "source": [
        "Отображаемые гистограмме данные отчётливо свидетельствуют нам о том, что основное количество вакансий (ориентировочно 10500) могут предложить начальный уровень зарплаты в диапазоне от 25000 до 48000 рублей. Не существенно, но меньшее количество вакансий (в районе 8800) предлагают уровень зарплат в диапазоне от 48000 до 73000 рублей. Далее видно, что ориентировочно по 3800 вакансий, каждая, предлагают уровни зарплат, в диапазоне от 73000 до 100000 и от 100000 до 130000 рублей, соответственно. Число вакансий с более высокими уровнями начальной зарплаты резко падает, начиная с показателей 150000 рублей (менее 2000 вакансий). И от уровня зарплаты 180000 рублей, не превышая границу 1000 вакансий."
      ],
      "metadata": {
        "id": "VHRmayWP_sCH"
      }
    },
    {
      "cell_type": "markdown",
      "source": [
        "В дальнейшем, необходимо проанализировать вакансии по их числу в регионах. Для этого, используем столбчатую диаграмму."
      ],
      "metadata": {
        "id": "Z1DKfodKDTtp"
      }
    },
    {
      "cell_type": "code",
      "source": [
        "region_vac_count = reg_rol_new['region'].value_counts()\n",
        "figure = plt.figure(figsize=(20, 8))\n",
        "plt.bar(region_vac_count.index, region_vac_count)\n",
        " \n",
        "plt.title(label=\"Количество вакансий по регионам\", fontsize=14)\n",
        "plt.ylabel(\"Количество вакансий\", fontsize=12)\n",
        "plt.xlabel(\"Наименование региона\", size=12)\n",
        "plt.xticks(fontsize=10, rotation=90) # поворот подписи на 90 градусов\n",
        "\n",
        "plt.axhline(y=100, color='red', linewidth=1)\n",
        "plt.text(x=65, y=110, s='100 вакансий', size=11, color='black')\n",
        "plt.axhline(y=250, color='red', linewidth=1)\n",
        "plt.text(x=65, y=300, s='250 вакансий', size=11, color='black')\n",
        "plt.axhline(y=500, color='red', linewidth=1)\n",
        "plt.text(x=65, y=520, s='500 вакансий', size=11, color='black')\n",
        "\n",
        "plt.show()"
      ],
      "metadata": {
        "colab": {
          "base_uri": "https://localhost:8080/",
          "height": 704
        },
        "id": "1R8OIukwHHbK",
        "outputId": "f25e2324-ff6e-42e4-8ec6-0e5354aa7cb5"
      },
      "execution_count": 49,
      "outputs": [
        {
          "output_type": "display_data",
          "data": {
            "text/plain": [
              "<Figure size 1440x576 with 1 Axes>"
            ],
            "image/png": "[encoded data removed]"
          },
          "metadata": {
            "needs_background": "light"
          }
        }
      ]
    },
    {
      "cell_type": "markdown",
      "source": [
        "Графики столбчатой диаграммы демонстрируют нам, что число регионов с числом вакансий 500 и более равно 17. 17 регионов, предлагают вакансии в количестве 250 и более, но не более 500. Оставшиеся 48 регионов, предлагают количество вакансий более 100, но не более 250. При этом, максимаьное количество вакансий - 6846 в г.Москва, а минимальное значение - 4, в республике Калмыкия."
      ],
      "metadata": {
        "id": "pVA6w-SbJLi0"
      }
    },
    {
      "cell_type": "markdown",
      "source": [
        "Переходим к отображению количества вакансий с учётом стажа работы отображаемые на круговой диаграмме."
      ],
      "metadata": {
        "id": "bFb7Whl-LW2h"
      }
    },
    {
      "cell_type": "code",
      "source": [
        "experience_count = reg_rol_new['experience_nm'].value_counts()\n",
        "\n",
        "def make_autopct(values):\n",
        "    def my_autopct(pct):\n",
        "        total = sum(values)\n",
        "        val = int(round(pct*total/100.0))\n",
        "        return '{p:.2f}%  ({v:d})'.format(p=pct, v=val)\n",
        "    return my_autopct\n",
        "\n",
        "plt.pie(experience_count, labels=experience_count.index, autopct=make_autopct(experience_count),\n",
        "        radius=2, pctdistance=0.75)\n",
        "plt.title(label=\"Количество вакансий с учётом стажа работы\", fontsize=16, pad=150)\n",
        "plt.show()"
      ],
      "metadata": {
        "colab": {
          "base_uri": "https://localhost:8080/",
          "height": 479
        },
        "id": "_4LeciiWLz3s",
        "outputId": "48c0c409-1430-4045-ec52-b14ad807e068"
      },
      "execution_count": 50,
      "outputs": [
        {
          "output_type": "display_data",
          "data": {
            "text/plain": [
              "<Figure size 432x288 with 1 Axes>"
            ],
            "image/png": "[encoded data removed]"
          },
          "metadata": {}
        }
      ]
    },
    {
      "cell_type": "markdown",
      "source": [
        "Далее, отображаем количество вакансий относительно рабочего времени и занятости работника."
      ],
      "metadata": {
        "id": "DJowBS2cMpse"
      }
    },
    {
      "cell_type": "code",
      "source": [
        "schedule_count = reg_rol_new['schedule_nm'].value_counts()\n",
        "\n",
        "def make_autopct(values):\n",
        "    def my_autopct(pct):\n",
        "        total = sum(values)\n",
        "        val = int(round(pct*total/100.0))\n",
        "        return '{p:.2f}%  ({v:d})'.format(p=pct, v=val)\n",
        "    return my_autopct\n",
        "\n",
        "plt.pie(schedule_count, labels=schedule_count.index, autopct=make_autopct(schedule_count),\n",
        "        radius=2, pctdistance=0.75)\n",
        "plt.title(label=\"Количество вакансий относительно рабочего времени и занятости работника\", fontsize=14, pad=100)\n",
        "plt.show()"
      ],
      "metadata": {
        "colab": {
          "base_uri": "https://localhost:8080/",
          "height": 425
        },
        "id": "BJYdnvciMqiq",
        "outputId": "61ace00a-05c3-4ae1-f5e5-6253a0c44ac0"
      },
      "execution_count": 51,
      "outputs": [
        {
          "output_type": "display_data",
          "data": {
            "text/plain": [
              "<Figure size 432x288 with 1 Axes>"
            ],
            "image/png": "[encoded data removed]"
          },
          "metadata": {}
        }
      ]
    },
    {
      "cell_type": "markdown",
      "source": [
        "- На диаграмме \"Количество вакансий с учётом стажа работы\", отчётливо \n",
        "видно, что практически половина(50%) вакансий - это предложения, для специалистов, с \"опытом работы от 1-го года до 3-х лет\". Вторую строку, примерно треть(29%) от общего числа вакансий, занимают предложения \"без опыта работы\". \n",
        "- На диаграмме \"Количество вакансий относительно рабочего времени и занятости работника\", с большим преимуществом (более 76% вакансий), лидируют вакансии, у которых \"Полным рабочий день\". Следующий показатель(менее 15%), занимает позиция \"Удалённая работа\". Остальные варианты организации труда работников - \"Вахтовый метод\", \"Гибкий график\" и \"Сменный график\", суммарно занимают менее 10%, от общего объёма вакансий."
      ],
      "metadata": {
        "id": "I4FpSm_uOJV5"
      }
    },
    {
      "cell_type": "markdown",
      "source": [
        "Далее переходим, к следующему пункту: \"Проверка гипотезы о виде распределения\". Данный метод, основан на существовании \"Нормального закона распределения\", по другому называемый как \"закон Гаусса\". (Источник информации здесь --> https://habr.com/ru/company/otus/blog/671322 ). В нашем случае будет проверяться нижнее значение зарплаты. Который представляет собой - количественный фактор. В этой связи, необходимо отметить, что количество значений в выборке существенно болеше 5000. А именно 33658. То, в таком случае, критерий Шапиро-Уилка (это тест на нормальность в частотной статистике), в данном случае не актуален. И потому, проверка будет осуществлена на основе теста Д’Агостино и критериев асимметрии и эксцесса."
      ],
      "metadata": {
        "id": "uc00xd_NRF67"
      }
    },
    {
      "cell_type": "markdown",
      "source": [
        "Выборочный коэффициент асиметрии:"
      ],
      "metadata": {
        "id": "m87tWE1nVR2W"
      }
    },
    {
      "cell_type": "code",
      "source": [
        "reg_rol_new[['salary_from']].skew()"
      ],
      "metadata": {
        "colab": {
          "base_uri": "https://localhost:8080/"
        },
        "id": "-JMP4l4BUkTW",
        "outputId": "a86e4bf0-8e43-4268-d12c-a010c83ef0ec"
      },
      "execution_count": 52,
      "outputs": [
        {
          "output_type": "execute_result",
          "data": {
            "text/plain": [
              "salary_from    14.139206\n",
              "dtype: float64"
            ]
          },
          "metadata": {},
          "execution_count": 52
        }
      ]
    },
    {
      "cell_type": "markdown",
      "source": [
        "Выборочный эксцесс:"
      ],
      "metadata": {
        "id": "B07IGeyNVWFm"
      }
    },
    {
      "cell_type": "code",
      "source": [
        "reg_rol_new[['salary_from']].kurtosis()"
      ],
      "metadata": {
        "colab": {
          "base_uri": "https://localhost:8080/"
        },
        "id": "imSFCnixVfSg",
        "outputId": "0f2feea5-4b18-43c8-f54a-f20ad0d1a398"
      },
      "execution_count": 53,
      "outputs": [
        {
          "output_type": "execute_result",
          "data": {
            "text/plain": [
              "salary_from    752.863087\n",
              "dtype: float64"
            ]
          },
          "metadata": {},
          "execution_count": 53
        }
      ]
    },
    {
      "cell_type": "markdown",
      "source": [
        "Как видно из вычислений, \"Критерий асимметрии\" показал значение 14.13, в то время как у нормально распределённой выборки он составляет 0 +/-1. Таким образом фиксируем, что у данной выборки гораздо более пологий правый хвост распределения. Критерий эксцесса показал значение 752.86!!! При этом, в варианте нормального распределения, данная величина составляет 3. Таким образом, в результате полученное значение показывает, что график распределения слишком острый."
      ],
      "metadata": {
        "id": "fmypYHXpWEb5"
      }
    },
    {
      "cell_type": "markdown",
      "source": [],
      "metadata": {
        "id": "d-TTe2atX-JX"
      }
    },
    {
      "cell_type": "code",
      "source": [
        "scipy.stats.normaltest(reg_rol_new['salary_from'])"
      ],
      "metadata": {
        "colab": {
          "base_uri": "https://localhost:8080/"
        },
        "id": "TLwg-q81X-z3",
        "outputId": "c763d9e8-47cd-4b8c-a473-188829ca65fd"
      },
      "execution_count": 54,
      "outputs": [
        {
          "output_type": "execute_result",
          "data": {
            "text/plain": [
              "NormaltestResult(statistic=64438.61297932771, pvalue=0.0)"
            ]
          },
          "metadata": {},
          "execution_count": 54
        }
      ]
    },
    {
      "cell_type": "markdown",
      "source": [
        "Тест Д’Агостино свидетельствует, что значение p-value = 0.0. Таким образом, данное значение, меньше минимального значения уровня значимости, равное 0.05. \n",
        "На основании этого, делаем вывод: нулевая гипотеза отклоняется. \n",
        "А так же фиксируем тот факт, что распределение выборки нижнего порога зарплаты ненормально."
      ],
      "metadata": {
        "id": "FSN1nUpQajmX"
      }
    },
    {
      "cell_type": "markdown",
      "source": [
        "Далее переходим к оценка связи между показателями. \n",
        "- Сравним количественный показатель, которым является зарплата, с одним из категориальных факторов, котоым является стаж работы."
      ],
      "metadata": {
        "id": "6GGD40sQbZ_u"
      }
    },
    {
      "cell_type": "code",
      "source": [
        "pf, ax = plt.subplots(figsize=(6, 6))\n",
        "fig = sns.boxplot(x='experience_nm', y='salary_from', data=reg_rol_new)\n",
        "plt.axhline(y=300000, color='red', linewidth=1)"
      ],
      "metadata": {
        "colab": {
          "base_uri": "https://localhost:8080/",
          "height": 417
        },
        "id": "MnnbUV91bwd4",
        "outputId": "673ef251-d5d0-4af9-e974-7b083aaca85d"
      },
      "execution_count": 55,
      "outputs": [
        {
          "output_type": "execute_result",
          "data": {
            "text/plain": [
              "<matplotlib.lines.Line2D at 0x7f2dde8c8250>"
            ]
          },
          "metadata": {},
          "execution_count": 55
        },
        {
          "output_type": "display_data",
          "data": {
            "text/plain": [
              "<Figure size 432x432 with 1 Axes>"
            ],
            "image/png": "[encoded data removed]"
          },
          "metadata": {
            "needs_background": "light"
          }
        }
      ]
    },
    {
      "cell_type": "markdown",
      "source": [
        "Как видно на графике, что при сравнении показателей стажа работы и зарплат имеется существенная область выбросов. Необходимо отфильтровать данную область."
      ],
      "metadata": {
        "id": "7G-6OK1icJWk"
      }
    },
    {
      "cell_type": "code",
      "source": [
        "reg_rol_flt = reg_rol_new.drop(reg_rol_new.loc[(reg_rol_new['experience_nm'] == 'От 3 до 6 лет') & (reg_rol['salary_from'] > 350000)].index)\n",
        "reg_rol_flt = reg_rol_flt.drop(reg_rol_new.loc[(reg_rol_new['experience_nm'] == 'От 1 года до 3 лет') & (reg_rol['salary_from'] > 118000)].index)\n",
        "reg_rol_flt = reg_rol_flt.drop(reg_rol_new.loc[(reg_rol_new['experience_nm'] == 'Нет опыта') & (reg_rol['salary_from'] > 130000)].index)\n",
        "reg_rol_flt = reg_rol_flt.drop(reg_rol_new.loc[(reg_rol_new['experience_nm'] == 'Более 6 лет') & (reg_rol['salary_from'] > 255000)].index)\n",
        "pf, ax = plt.subplots(figsize=(6, 6))\n",
        "fig = sns.boxplot(x='experience_nm', y='salary_from', data=reg_rol_flt)\n",
        "plt.show()"
      ],
      "metadata": {
        "colab": {
          "base_uri": "https://localhost:8080/",
          "height": 389
        },
        "id": "Cqqs8nyecipv",
        "outputId": "ec3887ed-721f-4bb2-960b-1e971f8496ef"
      },
      "execution_count": 56,
      "outputs": [
        {
          "output_type": "display_data",
          "data": {
            "text/plain": [
              "<Figure size 432x432 with 1 Axes>"
            ],
            "image/png": "[encoded data removed]"
          },
          "metadata": {
            "needs_background": "light"
          }
        }
      ]
    },
    {
      "cell_type": "markdown",
      "source": [
        "Отображаемый на графике данные, свидетельствуют о том, что если взять конкретный показатель стажа работы - \"Более 6 лет\", ограничивая его уровнем зарплаты в 500000 рублей. А в этом момент, boxplot выборки покажет границу характерных данных в районе 250000 рублей. Этот показатель расположен ниже, чем граница характерных данных выборки \"От 3 до 6 лет\" - около 280000 руб. Со снижением границы будет снижаться и граница характерных данных. Для выборки \"От 1 года до 3 лет\" эта граница равна 120000, для выборки \"Нет опыта\" - 130000 рублей. На границе уровня зарплаты в 400000 рублей для всех типов опыта, у выборок \"От 1 года до 3 лет\" и \"Нет опыта\" верхняя граница характерных данных лежит в районе 140000 рублей. У позиции \"Нет опыта\" - 130000. Стаж работы \"От 3 до 6 лет\" - так же 280000 руб., у выборки \"Более 6 лет\" - в районе 250000 рублей."
      ],
      "metadata": {
        "id": "1P21bHDOeOUy"
      }
    },
    {
      "cell_type": "markdown",
      "source": [
        "Ввиду того, что в данном случае сравнению подлежат количественные и категориальные данные. При этом количественные данные распределены ненормально. В то время как у категориальных данных, представлено 4 группы данных. Вместе с тем, оба критерия не являются зависимыми. \n",
        "То, на основании описанного, для оценки наличия взаимосвязи между ними имеется возможность использовать критерий Краскела-Уоллиса(Источник здесь ---> https://www.codecamp.ru/blog/kruskal-wallis-test-python )."
      ],
      "metadata": {
        "id": "s6lGhZ8YvJyC"
      }
    },
    {
      "cell_type": "code",
      "source": [
        "c1_exp = np.array(reg_rol_flt[reg_rol_flt['experience_nm'] == 'Нет опыта']['salary_from'])\n",
        "c2_exp = np.array(reg_rol_flt[reg_rol_flt['experience_nm'] == 'От 1 года до 3 лет']['salary_from'])\n",
        "c3_exp = np.array(reg_rol_flt[reg_rol_flt['experience_nm'] == 'От 3 до 6 лет']['salary_from'])\n",
        "c4_exp = np.array(reg_rol_flt[reg_rol_flt['experience_nm'] == 'Более 6 лет']['salary_from'])\n",
        "scipy.stats.mstats.kruskalwallis(c1_exp, c2_exp, c3_exp, c4_exp)"
      ],
      "metadata": {
        "colab": {
          "base_uri": "https://localhost:8080/"
        },
        "id": "71lbb12Dw0NI",
        "outputId": "0cf46117-a114-499a-9558-1980aedc5675"
      },
      "execution_count": 57,
      "outputs": [
        {
          "output_type": "execute_result",
          "data": {
            "text/plain": [
              "KruskalResult(statistic=7052.4962847117595, pvalue=0.0)"
            ]
          },
          "metadata": {},
          "execution_count": 57
        }
      ]
    },
    {
      "cell_type": "markdown",
      "source": [
        "Для выборок опыта с границей в 400000 рублей для всех значение статистики по критерию Краскала-Уолиса = 5642.7, p-value = 0.0. При индивидуальных границах выборок значение статистического анализа равно 7052.49, p-value по-прежнему 0.0. Это значит, что связь между признаками есть и она ярко выраженная."
      ],
      "metadata": {
        "id": "R7XDKV4_xw1A"
      }
    },
    {
      "cell_type": "markdown",
      "source": [
        "Переходим к следующему разделу.\n",
        "Анализ таблиц сопряжённости."
      ],
      "metadata": {
        "id": "J6hBwaqEy6qx"
      }
    },
    {
      "cell_type": "markdown",
      "source": [
        "В таблице сопряжённости будут сравниваться два категориальных фактора: \"Стаж работы\" и \"Регион\". Для чего необходимо ограничить список регионов теми, у которых число вакансий более 500."
      ],
      "metadata": {
        "id": "WIVy5BlkzEhJ"
      }
    },
    {
      "cell_type": "code",
      "source": [
        "reg_rol_flt_reg = reg_rol_new[reg_rol_new['region'].map(reg_rol_new['region'].value_counts()) >= 500]\n",
        "reg_rol_flt_reg"
      ],
      "metadata": {
        "colab": {
          "base_uri": "https://localhost:8080/",
          "height": 424
        },
        "id": "SekdaxAnzn9V",
        "outputId": "9eb07d32-ed3a-4d58-aa21-836b9c5f2e90"
      },
      "execution_count": 58,
      "outputs": [
        {
          "output_type": "execute_result",
          "data": {
            "text/plain": [
              "                                                    name  salary_from  \\\n",
              "1183       Middle/Senior QA Automation Engineer (Remote)        91455   \n",
              "1188                                      Тестировщик ПО        50000   \n",
              "1193     Тестировщик программного обеспечения/QA Egineer        50000   \n",
              "1202              Middle QA auto тестировщики (удаленно)       180000   \n",
              "1203             QA Инженер по нагрузочному тестированию       100000   \n",
              "...                                                  ...          ...   \n",
              "67890                               Frontend-разработчик        30000   \n",
              "67891  Back-end разработчик (Node.js, TS, ES6-19, .Ne...        60000   \n",
              "67892        Front-end разработчик (JS, Vue.js, Nuxt.js)        40000   \n",
              "67893  Ведущий специалист информационной поддержки по...        55000   \n",
              "67897                           Инженер-программист (1С)        70000   \n",
              "\n",
              "                      region       experience_nm       schedule_nm  \n",
              "1183   Нижегородская область       От 3 до 6 лет  Удаленная работа  \n",
              "1188   Нижегородская область  От 1 года до 3 лет  Удаленная работа  \n",
              "1193   Нижегородская область  От 1 года до 3 лет       Полный день  \n",
              "1202   Нижегородская область       От 3 до 6 лет       Полный день  \n",
              "1203   Нижегородская область  От 1 года до 3 лет  Удаленная работа  \n",
              "...                      ...                 ...               ...  \n",
              "67890    Челябинская область           Нет опыта       Полный день  \n",
              "67891    Челябинская область  От 1 года до 3 лет       Полный день  \n",
              "67892    Челябинская область  От 1 года до 3 лет       Полный день  \n",
              "67893    Челябинская область  От 1 года до 3 лет       Полный день  \n",
              "67897    Челябинская область  От 1 года до 3 лет       Полный день  \n",
              "\n",
              "[22691 rows x 5 columns]"
            ],
            "text/html": [
              "\n",
              "  <div id=\"df-981389b2-80fe-408f-bfe0-65475987d8ee\">\n",
              "    <div class=\"colab-df-container\">\n",
              "      <div>\n",
              "<style scoped>\n",
              "    .dataframe tbody tr th:only-of-type {\n",
              "        vertical-align: middle;\n",
              "    }\n",
              "\n",
              "    .dataframe tbody tr th {\n",
              "        vertical-align: top;\n",
              "    }\n",
              "\n",
              "    .dataframe thead th {\n",
              "        text-align: right;\n",
              "    }\n",
              "</style>\n",
              "<table border=\"1\" class=\"dataframe\">\n",
              "  <thead>\n",
              "    <tr style=\"text-align: right;\">\n",
              "      <th></th>\n",
              "      <th>name</th>\n",
              "      <th>salary_from</th>\n",
              "      <th>region</th>\n",
              "      <th>experience_nm</th>\n",
              "      <th>schedule_nm</th>\n",
              "    </tr>\n",
              "  </thead>\n",
              "  <tbody>\n",
              "    <tr>\n",
              "      <th>1183</th>\n",
              "      <td>Middle/Senior QA Automation Engineer (Remote)</td>\n",
              "      <td>91455</td>\n",
              "      <td>Нижегородская область</td>\n",
              "      <td>От 3 до 6 лет</td>\n",
              "      <td>Удаленная работа</td>\n",
              "    </tr>\n",
              "    <tr>\n",
              "      <th>1188</th>\n",
              "      <td>Тестировщик ПО</td>\n",
              "      <td>50000</td>\n",
              "      <td>Нижегородская область</td>\n",
              "      <td>От 1 года до 3 лет</td>\n",
              "      <td>Удаленная работа</td>\n",
              "    </tr>\n",
              "    <tr>\n",
              "      <th>1193</th>\n",
              "      <td>Тестировщик программного обеспечения/QA Egineer</td>\n",
              "      <td>50000</td>\n",
              "      <td>Нижегородская область</td>\n",
              "      <td>От 1 года до 3 лет</td>\n",
              "      <td>Полный день</td>\n",
              "    </tr>\n",
              "    <tr>\n",
              "      <th>1202</th>\n",
              "      <td>Middle QA auto тестировщики (удаленно)</td>\n",
              "      <td>180000</td>\n",
              "      <td>Нижегородская область</td>\n",
              "      <td>От 3 до 6 лет</td>\n",
              "      <td>Полный день</td>\n",
              "    </tr>\n",
              "    <tr>\n",
              "      <th>1203</th>\n",
              "      <td>QA Инженер по нагрузочному тестированию</td>\n",
              "      <td>100000</td>\n",
              "      <td>Нижегородская область</td>\n",
              "      <td>От 1 года до 3 лет</td>\n",
              "      <td>Удаленная работа</td>\n",
              "    </tr>\n",
              "    <tr>\n",
              "      <th>...</th>\n",
              "      <td>...</td>\n",
              "      <td>...</td>\n",
              "      <td>...</td>\n",
              "      <td>...</td>\n",
              "      <td>...</td>\n",
              "    </tr>\n",
              "    <tr>\n",
              "      <th>67890</th>\n",
              "      <td>Frontend-разработчик</td>\n",
              "      <td>30000</td>\n",
              "      <td>Челябинская область</td>\n",
              "      <td>Нет опыта</td>\n",
              "      <td>Полный день</td>\n",
              "    </tr>\n",
              "    <tr>\n",
              "      <th>67891</th>\n",
              "      <td>Back-end разработчик (Node.js, TS, ES6-19, .Ne...</td>\n",
              "      <td>60000</td>\n",
              "      <td>Челябинская область</td>\n",
              "      <td>От 1 года до 3 лет</td>\n",
              "      <td>Полный день</td>\n",
              "    </tr>\n",
              "    <tr>\n",
              "      <th>67892</th>\n",
              "      <td>Front-end разработчик (JS, Vue.js, Nuxt.js)</td>\n",
              "      <td>40000</td>\n",
              "      <td>Челябинская область</td>\n",
              "      <td>От 1 года до 3 лет</td>\n",
              "      <td>Полный день</td>\n",
              "    </tr>\n",
              "    <tr>\n",
              "      <th>67893</th>\n",
              "      <td>Ведущий специалист информационной поддержки по...</td>\n",
              "      <td>55000</td>\n",
              "      <td>Челябинская область</td>\n",
              "      <td>От 1 года до 3 лет</td>\n",
              "      <td>Полный день</td>\n",
              "    </tr>\n",
              "    <tr>\n",
              "      <th>67897</th>\n",
              "      <td>Инженер-программист (1С)</td>\n",
              "      <td>70000</td>\n",
              "      <td>Челябинская область</td>\n",
              "      <td>От 1 года до 3 лет</td>\n",
              "      <td>Полный день</td>\n",
              "    </tr>\n",
              "  </tbody>\n",
              "</table>\n",
              "<p>22691 rows × 5 columns</p>\n",
              "</div>\n",
              "      <button class=\"colab-df-convert\" onclick=\"convertToInteractive('df-981389b2-80fe-408f-bfe0-65475987d8ee')\"\n",
              "              title=\"Convert this dataframe to an interactive table.\"\n",
              "              style=\"display:none;\">\n",
              "        \n",
              "  <svg xmlns=\"http://www.w3.org/2000/svg\" height=\"24px\"viewBox=\"0 0 24 24\"\n",
              "       width=\"24px\">\n",
              "    <path d=\"M0 0h24v24H0V0z\" fill=\"none\"/>\n",
              "    <path d=\"M18.56 5.44l.94 2.06.94-2.06 2.06-.94-2.06-.94-.94-2.06-.94 2.06-2.06.94zm-11 1L8.5 8.5l.94-2.06 2.06-.94-2.06-.94L8.5 2.5l-.94 2.06-2.06.94zm10 10l.94 2.06.94-2.06 2.06-.94-2.06-.94-.94-2.06-.94 2.06-2.06.94z\"/><path d=\"M17.41 7.96l-1.37-1.37c-.4-.4-.92-.59-1.43-.59-.52 0-1.04.2-1.43.59L10.3 9.45l-7.72 7.72c-.78.78-.78 2.05 0 2.83L4 21.41c.39.39.9.59 1.41.59.51 0 1.02-.2 1.41-.59l7.78-7.78 2.81-2.81c.8-.78.8-2.07 0-2.86zM5.41 20L4 18.59l7.72-7.72 1.47 1.35L5.41 20z\"/>\n",
              "  </svg>\n",
              "      </button>\n",
              "      \n",
              "  <style>\n",
              "    .colab-df-container {\n",
              "      display:flex;\n",
              "      flex-wrap:wrap;\n",
              "      gap: 12px;\n",
              "    }\n",
              "\n",
              "    .colab-df-convert {\n",
              "      background-color: #E8F0FE;\n",
              "      border: none;\n",
              "      border-radius: 50%;\n",
              "      cursor: pointer;\n",
              "      display: none;\n",
              "      fill: #1967D2;\n",
              "      height: 32px;\n",
              "      padding: 0 0 0 0;\n",
              "      width: 32px;\n",
              "    }\n",
              "\n",
              "    .colab-df-convert:hover {\n",
              "      background-color: #E2EBFA;\n",
              "      box-shadow: 0px 1px 2px rgba(60, 64, 67, 0.3), 0px 1px 3px 1px rgba(60, 64, 67, 0.15);\n",
              "      fill: #174EA6;\n",
              "    }\n",
              "\n",
              "    [theme=dark] .colab-df-convert {\n",
              "      background-color: #3B4455;\n",
              "      fill: #D2E3FC;\n",
              "    }\n",
              "\n",
              "    [theme=dark] .colab-df-convert:hover {\n",
              "      background-color: #434B5C;\n",
              "      box-shadow: 0px 1px 3px 1px rgba(0, 0, 0, 0.15);\n",
              "      filter: drop-shadow(0px 1px 2px rgba(0, 0, 0, 0.3));\n",
              "      fill: #FFFFFF;\n",
              "    }\n",
              "  </style>\n",
              "\n",
              "      <script>\n",
              "        const buttonEl =\n",
              "          document.querySelector('#df-981389b2-80fe-408f-bfe0-65475987d8ee button.colab-df-convert');\n",
              "        buttonEl.style.display =\n",
              "          google.colab.kernel.accessAllowed ? 'block' : 'none';\n",
              "\n",
              "        async function convertToInteractive(key) {\n",
              "          const element = document.querySelector('#df-981389b2-80fe-408f-bfe0-65475987d8ee');\n",
              "          const dataTable =\n",
              "            await google.colab.kernel.invokeFunction('convertToInteractive',\n",
              "                                                     [key], {});\n",
              "          if (!dataTable) return;\n",
              "\n",
              "          const docLinkHtml = 'Like what you see? Visit the ' +\n",
              "            '<a target=\"_blank\" href=https://colab.research.google.com/notebooks/data_table.ipynb>data table notebook</a>'\n",
              "            + ' to learn more about interactive tables.';\n",
              "          element.innerHTML = '';\n",
              "          dataTable['output_type'] = 'display_data';\n",
              "          await google.colab.output.renderOutput(dataTable, element);\n",
              "          const docLink = document.createElement('div');\n",
              "          docLink.innerHTML = docLinkHtml;\n",
              "          element.appendChild(docLink);\n",
              "        }\n",
              "      </script>\n",
              "    </div>\n",
              "  </div>\n",
              "  "
            ]
          },
          "metadata": {},
          "execution_count": 58
        }
      ]
    },
    {
      "cell_type": "code",
      "source": [
        "reg_rol_flt_reg_vc = reg_rol_flt_reg.groupby('region')['experience_nm'].value_counts()\n",
        "reg_rol_fr_vc_sum = reg_rol_flt_reg_vc.groupby('region').sum()\n",
        "reg_rol_fr_vc_sum = reg_rol_fr_vc_sum.sort_values(ascending=False)\n",
        "zn = pd.crosstab(reg_rol_flt_reg['experience_nm'], reg_rol_flt_reg['region'])\n",
        "sorted_zn = zn[zn.sum().sort_values(ascending=False).index]\n",
        "sorted_zn"
      ],
      "metadata": {
        "colab": {
          "base_uri": "https://localhost:8080/",
          "height": 305
        },
        "id": "7BY6Nu3g0K6H",
        "outputId": "2a8ad7c9-6fef-4075-d921-735b7c573c42"
      },
      "execution_count": 59,
      "outputs": [
        {
          "output_type": "execute_result",
          "data": {
            "text/plain": [
              "region              Москва  Санкт-Петербург  Краснодарский край  \\\n",
              "experience_nm                                                     \n",
              "Более 6 лет            252               93                  25   \n",
              "Нет опыта              938              535                1117   \n",
              "От 1 года до 3 лет    3326             1760                 861   \n",
              "От 3 до 6 лет         2094              873                 250   \n",
              "\n",
              "region              Московская область  Свердловская область  \\\n",
              "experience_nm                                                  \n",
              "Более 6 лет                         12                    31   \n",
              "Нет опыта                          591                   323   \n",
              "От 1 года до 3 лет                 628                   661   \n",
              "От 3 до 6 лет                      261                   294   \n",
              "\n",
              "region              Республика Татарстан  Новосибирская область  \\\n",
              "experience_nm                                                     \n",
              "Более 6 лет                           18                     31   \n",
              "Нет опыта                            296                    226   \n",
              "От 1 года до 3 лет                   616                    574   \n",
              "От 3 до 6 лет                        220                    290   \n",
              "\n",
              "region              Ростовская область  Нижегородская область  \\\n",
              "experience_nm                                                   \n",
              "Более 6 лет                          4                     19   \n",
              "Нет опыта                          349                    166   \n",
              "От 1 года до 3 лет                 449                    424   \n",
              "От 3 до 6 лет                      170                    159   \n",
              "\n",
              "region              Красноярский край  Самарская область  Челябинская область  \\\n",
              "experience_nm                                                                   \n",
              "Более 6 лет                        25                 11                   12   \n",
              "Нет опыта                         203                174                  198   \n",
              "От 1 года до 3 лет                348                360                  336   \n",
              "От 3 до 6 лет                     149                129                  114   \n",
              "\n",
              "region              Республика Башкортостан  Воронежская область  \\\n",
              "experience_nm                                                      \n",
              "Более 6 лет                              10                    6   \n",
              "Нет опыта                               202                  180   \n",
              "От 1 года до 3 лет                      301                  289   \n",
              "От 3 до 6 лет                            88                   93   \n",
              "\n",
              "region              Приморский край  \n",
              "experience_nm                        \n",
              "Более 6 лет                       4  \n",
              "Нет опыта                       174  \n",
              "От 1 года до 3 лет              263  \n",
              "От 3 до 6 лет                    86  "
            ],
            "text/html": [
              "\n",
              "  <div id=\"df-6cf0c782-0824-40e2-97e6-7477e23a5a0e\">\n",
              "    <div class=\"colab-df-container\">\n",
              "      <div>\n",
              "<style scoped>\n",
              "    .dataframe tbody tr th:only-of-type {\n",
              "        vertical-align: middle;\n",
              "    }\n",
              "\n",
              "    .dataframe tbody tr th {\n",
              "        vertical-align: top;\n",
              "    }\n",
              "\n",
              "    .dataframe thead th {\n",
              "        text-align: right;\n",
              "    }\n",
              "</style>\n",
              "<table border=\"1\" class=\"dataframe\">\n",
              "  <thead>\n",
              "    <tr style=\"text-align: right;\">\n",
              "      <th>region</th>\n",
              "      <th>Москва</th>\n",
              "      <th>Санкт-Петербург</th>\n",
              "      <th>Краснодарский край</th>\n",
              "      <th>Московская область</th>\n",
              "      <th>Свердловская область</th>\n",
              "      <th>Республика Татарстан</th>\n",
              "      <th>Новосибирская область</th>\n",
              "      <th>Ростовская область</th>\n",
              "      <th>Нижегородская область</th>\n",
              "      <th>Красноярский край</th>\n",
              "      <th>Самарская область</th>\n",
              "      <th>Челябинская область</th>\n",
              "      <th>Республика Башкортостан</th>\n",
              "      <th>Воронежская область</th>\n",
              "      <th>Приморский край</th>\n",
              "    </tr>\n",
              "    <tr>\n",
              "      <th>experience_nm</th>\n",
              "      <th></th>\n",
              "      <th></th>\n",
              "      <th></th>\n",
              "      <th></th>\n",
              "      <th></th>\n",
              "      <th></th>\n",
              "      <th></th>\n",
              "      <th></th>\n",
              "      <th></th>\n",
              "      <th></th>\n",
              "      <th></th>\n",
              "      <th></th>\n",
              "      <th></th>\n",
              "      <th></th>\n",
              "      <th></th>\n",
              "    </tr>\n",
              "  </thead>\n",
              "  <tbody>\n",
              "    <tr>\n",
              "      <th>Более 6 лет</th>\n",
              "      <td>252</td>\n",
              "      <td>93</td>\n",
              "      <td>25</td>\n",
              "      <td>12</td>\n",
              "      <td>31</td>\n",
              "      <td>18</td>\n",
              "      <td>31</td>\n",
              "      <td>4</td>\n",
              "      <td>19</td>\n",
              "      <td>25</td>\n",
              "      <td>11</td>\n",
              "      <td>12</td>\n",
              "      <td>10</td>\n",
              "      <td>6</td>\n",
              "      <td>4</td>\n",
              "    </tr>\n",
              "    <tr>\n",
              "      <th>Нет опыта</th>\n",
              "      <td>938</td>\n",
              "      <td>535</td>\n",
              "      <td>1117</td>\n",
              "      <td>591</td>\n",
              "      <td>323</td>\n",
              "      <td>296</td>\n",
              "      <td>226</td>\n",
              "      <td>349</td>\n",
              "      <td>166</td>\n",
              "      <td>203</td>\n",
              "      <td>174</td>\n",
              "      <td>198</td>\n",
              "      <td>202</td>\n",
              "      <td>180</td>\n",
              "      <td>174</td>\n",
              "    </tr>\n",
              "    <tr>\n",
              "      <th>От 1 года до 3 лет</th>\n",
              "      <td>3326</td>\n",
              "      <td>1760</td>\n",
              "      <td>861</td>\n",
              "      <td>628</td>\n",
              "      <td>661</td>\n",
              "      <td>616</td>\n",
              "      <td>574</td>\n",
              "      <td>449</td>\n",
              "      <td>424</td>\n",
              "      <td>348</td>\n",
              "      <td>360</td>\n",
              "      <td>336</td>\n",
              "      <td>301</td>\n",
              "      <td>289</td>\n",
              "      <td>263</td>\n",
              "    </tr>\n",
              "    <tr>\n",
              "      <th>От 3 до 6 лет</th>\n",
              "      <td>2094</td>\n",
              "      <td>873</td>\n",
              "      <td>250</td>\n",
              "      <td>261</td>\n",
              "      <td>294</td>\n",
              "      <td>220</td>\n",
              "      <td>290</td>\n",
              "      <td>170</td>\n",
              "      <td>159</td>\n",
              "      <td>149</td>\n",
              "      <td>129</td>\n",
              "      <td>114</td>\n",
              "      <td>88</td>\n",
              "      <td>93</td>\n",
              "      <td>86</td>\n",
              "    </tr>\n",
              "  </tbody>\n",
              "</table>\n",
              "</div>\n",
              "      <button class=\"colab-df-convert\" onclick=\"convertToInteractive('df-6cf0c782-0824-40e2-97e6-7477e23a5a0e')\"\n",
              "              title=\"Convert this dataframe to an interactive table.\"\n",
              "              style=\"display:none;\">\n",
              "        \n",
              "  <svg xmlns=\"http://www.w3.org/2000/svg\" height=\"24px\"viewBox=\"0 0 24 24\"\n",
              "       width=\"24px\">\n",
              "    <path d=\"M0 0h24v24H0V0z\" fill=\"none\"/>\n",
              "    <path d=\"M18.56 5.44l.94 2.06.94-2.06 2.06-.94-2.06-.94-.94-2.06-.94 2.06-2.06.94zm-11 1L8.5 8.5l.94-2.06 2.06-.94-2.06-.94L8.5 2.5l-.94 2.06-2.06.94zm10 10l.94 2.06.94-2.06 2.06-.94-2.06-.94-.94-2.06-.94 2.06-2.06.94z\"/><path d=\"M17.41 7.96l-1.37-1.37c-.4-.4-.92-.59-1.43-.59-.52 0-1.04.2-1.43.59L10.3 9.45l-7.72 7.72c-.78.78-.78 2.05 0 2.83L4 21.41c.39.39.9.59 1.41.59.51 0 1.02-.2 1.41-.59l7.78-7.78 2.81-2.81c.8-.78.8-2.07 0-2.86zM5.41 20L4 18.59l7.72-7.72 1.47 1.35L5.41 20z\"/>\n",
              "  </svg>\n",
              "      </button>\n",
              "      \n",
              "  <style>\n",
              "    .colab-df-container {\n",
              "      display:flex;\n",
              "      flex-wrap:wrap;\n",
              "      gap: 12px;\n",
              "    }\n",
              "\n",
              "    .colab-df-convert {\n",
              "      background-color: #E8F0FE;\n",
              "      border: none;\n",
              "      border-radius: 50%;\n",
              "      cursor: pointer;\n",
              "      display: none;\n",
              "      fill: #1967D2;\n",
              "      height: 32px;\n",
              "      padding: 0 0 0 0;\n",
              "      width: 32px;\n",
              "    }\n",
              "\n",
              "    .colab-df-convert:hover {\n",
              "      background-color: #E2EBFA;\n",
              "      box-shadow: 0px 1px 2px rgba(60, 64, 67, 0.3), 0px 1px 3px 1px rgba(60, 64, 67, 0.15);\n",
              "      fill: #174EA6;\n",
              "    }\n",
              "\n",
              "    [theme=dark] .colab-df-convert {\n",
              "      background-color: #3B4455;\n",
              "      fill: #D2E3FC;\n",
              "    }\n",
              "\n",
              "    [theme=dark] .colab-df-convert:hover {\n",
              "      background-color: #434B5C;\n",
              "      box-shadow: 0px 1px 3px 1px rgba(0, 0, 0, 0.15);\n",
              "      filter: drop-shadow(0px 1px 2px rgba(0, 0, 0, 0.3));\n",
              "      fill: #FFFFFF;\n",
              "    }\n",
              "  </style>\n",
              "\n",
              "      <script>\n",
              "        const buttonEl =\n",
              "          document.querySelector('#df-6cf0c782-0824-40e2-97e6-7477e23a5a0e button.colab-df-convert');\n",
              "        buttonEl.style.display =\n",
              "          google.colab.kernel.accessAllowed ? 'block' : 'none';\n",
              "\n",
              "        async function convertToInteractive(key) {\n",
              "          const element = document.querySelector('#df-6cf0c782-0824-40e2-97e6-7477e23a5a0e');\n",
              "          const dataTable =\n",
              "            await google.colab.kernel.invokeFunction('convertToInteractive',\n",
              "                                                     [key], {});\n",
              "          if (!dataTable) return;\n",
              "\n",
              "          const docLinkHtml = 'Like what you see? Visit the ' +\n",
              "            '<a target=\"_blank\" href=https://colab.research.google.com/notebooks/data_table.ipynb>data table notebook</a>'\n",
              "            + ' to learn more about interactive tables.';\n",
              "          element.innerHTML = '';\n",
              "          dataTable['output_type'] = 'display_data';\n",
              "          await google.colab.output.renderOutput(dataTable, element);\n",
              "          const docLink = document.createElement('div');\n",
              "          docLink.innerHTML = docLinkHtml;\n",
              "          element.appendChild(docLink);\n",
              "        }\n",
              "      </script>\n",
              "    </div>\n",
              "  </div>\n",
              "  "
            ]
          },
          "metadata": {},
          "execution_count": 59
        }
      ]
    },
    {
      "cell_type": "code",
      "source": [
        "plt.figure(figsize=(12, 10))\n",
        "ax = sns.countplot(x=reg_rol_flt_reg['region'], hue=reg_rol_flt_reg['experience_nm'], \n",
        "                   order=reg_rol_flt_reg['region'].value_counts().index)\n",
        "ax.set_xticklabels(ax.get_xticklabels(), rotation=35, ha='right')\n",
        "plt.show()"
      ],
      "metadata": {
        "colab": {
          "base_uri": "https://localhost:8080/",
          "height": 684
        },
        "id": "iunxUqVC1GaG",
        "outputId": "528e7b87-9883-45d7-ec8d-55a26d898bce"
      },
      "execution_count": 60,
      "outputs": [
        {
          "output_type": "display_data",
          "data": {
            "text/plain": [
              "<Figure size 864x720 with 1 Axes>"
            ],
            "image/png": "[encoded data removed]"
          },
          "metadata": {
            "needs_background": "light"
          }
        }
      ]
    },
    {
      "cell_type": "code",
      "source": [
        "chi2, prob, reg_rol, expected = scipy.stats.chi2_contingency(zn)\n",
        "output = \"test Statistics: {}\\ndegrees of freedom: {}\\np-value: {}\\n\"\n",
        " \n",
        "print(output.format(chi2, reg_rol, prob))"
      ],
      "metadata": {
        "colab": {
          "base_uri": "https://localhost:8080/"
        },
        "id": "_wILMjud1-Jh",
        "outputId": "b9317dab-cd7f-41bc-b87f-b9882c20191f"
      },
      "execution_count": 61,
      "outputs": [
        {
          "output_type": "stream",
          "name": "stdout",
          "text": [
            "test Statistics: 1888.2877748960861\n",
            "degrees of freedom: 42\n",
            "p-value: 0.0\n",
            "\n"
          ]
        }
      ]
    },
    {
      "cell_type": "markdown",
      "source": [
        "Таблица сопряжённости и её график для 14-ти регионов по числу вакансий показали, что на ряду с ростом числа вакансий растут и показатели по каждой отдельной категории стажа работы. Равномено распределён и имеется рост числа вакансий у столбца \"От 1 года до 3 лет\". Однако, и здесь, хотя и не значительно, но нарушается несколько раз тенденция, на примере Московской области и Красноярского края. У которых меньшее число вакансий в категории \"От 1 года до 3 лет\" компенсируется относительно высоким числом вакансий категории \"Нет опыта\". Также, в 13 из 14 регионов число вакансий этой категории выше, чем у всех остальных категорий. При этом, только у Краснодарского края число вакансий категории \"Нет опыта\" превышает число вакансий категории \"От 1 года до 3 лет\". Среди большинства регионов и поэтому и на втором месте по количеству вакансий числится категория \"Нет опыта\". Однако, в Москве, Санкт-Петербурге, равно как и в Новосибирской области, более присутствуют категории \"От 3 до 6 лет\".\n",
        "\n",
        "Тест хи-квадрат (Источник здесь ---> https://progler.ru/blog/python-test-hi-kvadrat-pirsona) для данной таблицы сопряжённости показал p-value = 0.0, при нулевой гипотезе разъясняется, что два категориальных признака не связаны. Таким образом, нулевая гипотеза опровергнута, и признаки демонстрируют зависимость между собой."
      ],
      "metadata": {
        "id": "4OgmZRGv2V-j"
      }
    },
    {
      "cell_type": "markdown",
      "source": [
        "Переходим к следующему разделу."
      ],
      "metadata": {
        "id": "hhrwWIorA5DP"
      }
    },
    {
      "cell_type": "markdown",
      "source": [
        "Корреляционный анализ."
      ],
      "metadata": {
        "id": "LGRtiOhWA-b4"
      }
    },
    {
      "cell_type": "code",
      "source": [
        "qz1 = pd.crosstab(reg_rol_new['schedule_nm'], reg_rol_new['experience_nm'])\n",
        "qz1"
      ],
      "metadata": {
        "colab": {
          "base_uri": "https://localhost:8080/",
          "height": 238
        },
        "id": "yhEOq6iOBEHZ",
        "outputId": "977503d9-a5be-4128-866e-5771005db768"
      },
      "execution_count": 62,
      "outputs": [
        {
          "output_type": "execute_result",
          "data": {
            "text/plain": [
              "experience_nm     Более 6 лет  Нет опыта  От 1 года до 3 лет  От 3 до 6 лет\n",
              "schedule_nm                                                                \n",
              "Вахтовый метод              1          3                  68             37\n",
              "Гибкий график              15       1225                 736            256\n",
              "Полный день               621       6676               13070           5290\n",
              "Сменный график              2        347                 440             53\n",
              "Удаленная работа          101       1266                2075           1376"
            ],
            "text/html": [
              "\n",
              "  <div id=\"df-fc3dcc46-8702-4b01-bc8b-f7b24fecaf27\">\n",
              "    <div class=\"colab-df-container\">\n",
              "      <div>\n",
              "<style scoped>\n",
              "    .dataframe tbody tr th:only-of-type {\n",
              "        vertical-align: middle;\n",
              "    }\n",
              "\n",
              "    .dataframe tbody tr th {\n",
              "        vertical-align: top;\n",
              "    }\n",
              "\n",
              "    .dataframe thead th {\n",
              "        text-align: right;\n",
              "    }\n",
              "</style>\n",
              "<table border=\"1\" class=\"dataframe\">\n",
              "  <thead>\n",
              "    <tr style=\"text-align: right;\">\n",
              "      <th>experience_nm</th>\n",
              "      <th>Более 6 лет</th>\n",
              "      <th>Нет опыта</th>\n",
              "      <th>От 1 года до 3 лет</th>\n",
              "      <th>От 3 до 6 лет</th>\n",
              "    </tr>\n",
              "    <tr>\n",
              "      <th>schedule_nm</th>\n",
              "      <th></th>\n",
              "      <th></th>\n",
              "      <th></th>\n",
              "      <th></th>\n",
              "    </tr>\n",
              "  </thead>\n",
              "  <tbody>\n",
              "    <tr>\n",
              "      <th>Вахтовый метод</th>\n",
              "      <td>1</td>\n",
              "      <td>3</td>\n",
              "      <td>68</td>\n",
              "      <td>37</td>\n",
              "    </tr>\n",
              "    <tr>\n",
              "      <th>Гибкий график</th>\n",
              "      <td>15</td>\n",
              "      <td>1225</td>\n",
              "      <td>736</td>\n",
              "      <td>256</td>\n",
              "    </tr>\n",
              "    <tr>\n",
              "      <th>Полный день</th>\n",
              "      <td>621</td>\n",
              "      <td>6676</td>\n",
              "      <td>13070</td>\n",
              "      <td>5290</td>\n",
              "    </tr>\n",
              "    <tr>\n",
              "      <th>Сменный график</th>\n",
              "      <td>2</td>\n",
              "      <td>347</td>\n",
              "      <td>440</td>\n",
              "      <td>53</td>\n",
              "    </tr>\n",
              "    <tr>\n",
              "      <th>Удаленная работа</th>\n",
              "      <td>101</td>\n",
              "      <td>1266</td>\n",
              "      <td>2075</td>\n",
              "      <td>1376</td>\n",
              "    </tr>\n",
              "  </tbody>\n",
              "</table>\n",
              "</div>\n",
              "      <button class=\"colab-df-convert\" onclick=\"convertToInteractive('df-fc3dcc46-8702-4b01-bc8b-f7b24fecaf27')\"\n",
              "              title=\"Convert this dataframe to an interactive table.\"\n",
              "              style=\"display:none;\">\n",
              "        \n",
              "  <svg xmlns=\"http://www.w3.org/2000/svg\" height=\"24px\"viewBox=\"0 0 24 24\"\n",
              "       width=\"24px\">\n",
              "    <path d=\"M0 0h24v24H0V0z\" fill=\"none\"/>\n",
              "    <path d=\"M18.56 5.44l.94 2.06.94-2.06 2.06-.94-2.06-.94-.94-2.06-.94 2.06-2.06.94zm-11 1L8.5 8.5l.94-2.06 2.06-.94-2.06-.94L8.5 2.5l-.94 2.06-2.06.94zm10 10l.94 2.06.94-2.06 2.06-.94-2.06-.94-.94-2.06-.94 2.06-2.06.94z\"/><path d=\"M17.41 7.96l-1.37-1.37c-.4-.4-.92-.59-1.43-.59-.52 0-1.04.2-1.43.59L10.3 9.45l-7.72 7.72c-.78.78-.78 2.05 0 2.83L4 21.41c.39.39.9.59 1.41.59.51 0 1.02-.2 1.41-.59l7.78-7.78 2.81-2.81c.8-.78.8-2.07 0-2.86zM5.41 20L4 18.59l7.72-7.72 1.47 1.35L5.41 20z\"/>\n",
              "  </svg>\n",
              "      </button>\n",
              "      \n",
              "  <style>\n",
              "    .colab-df-container {\n",
              "      display:flex;\n",
              "      flex-wrap:wrap;\n",
              "      gap: 12px;\n",
              "    }\n",
              "\n",
              "    .colab-df-convert {\n",
              "      background-color: #E8F0FE;\n",
              "      border: none;\n",
              "      border-radius: 50%;\n",
              "      cursor: pointer;\n",
              "      display: none;\n",
              "      fill: #1967D2;\n",
              "      height: 32px;\n",
              "      padding: 0 0 0 0;\n",
              "      width: 32px;\n",
              "    }\n",
              "\n",
              "    .colab-df-convert:hover {\n",
              "      background-color: #E2EBFA;\n",
              "      box-shadow: 0px 1px 2px rgba(60, 64, 67, 0.3), 0px 1px 3px 1px rgba(60, 64, 67, 0.15);\n",
              "      fill: #174EA6;\n",
              "    }\n",
              "\n",
              "    [theme=dark] .colab-df-convert {\n",
              "      background-color: #3B4455;\n",
              "      fill: #D2E3FC;\n",
              "    }\n",
              "\n",
              "    [theme=dark] .colab-df-convert:hover {\n",
              "      background-color: #434B5C;\n",
              "      box-shadow: 0px 1px 3px 1px rgba(0, 0, 0, 0.15);\n",
              "      filter: drop-shadow(0px 1px 2px rgba(0, 0, 0, 0.3));\n",
              "      fill: #FFFFFF;\n",
              "    }\n",
              "  </style>\n",
              "\n",
              "      <script>\n",
              "        const buttonEl =\n",
              "          document.querySelector('#df-fc3dcc46-8702-4b01-bc8b-f7b24fecaf27 button.colab-df-convert');\n",
              "        buttonEl.style.display =\n",
              "          google.colab.kernel.accessAllowed ? 'block' : 'none';\n",
              "\n",
              "        async function convertToInteractive(key) {\n",
              "          const element = document.querySelector('#df-fc3dcc46-8702-4b01-bc8b-f7b24fecaf27');\n",
              "          const dataTable =\n",
              "            await google.colab.kernel.invokeFunction('convertToInteractive',\n",
              "                                                     [key], {});\n",
              "          if (!dataTable) return;\n",
              "\n",
              "          const docLinkHtml = 'Like what you see? Visit the ' +\n",
              "            '<a target=\"_blank\" href=https://colab.research.google.com/notebooks/data_table.ipynb>data table notebook</a>'\n",
              "            + ' to learn more about interactive tables.';\n",
              "          element.innerHTML = '';\n",
              "          dataTable['output_type'] = 'display_data';\n",
              "          await google.colab.output.renderOutput(dataTable, element);\n",
              "          const docLink = document.createElement('div');\n",
              "          docLink.innerHTML = docLinkHtml;\n",
              "          element.appendChild(docLink);\n",
              "        }\n",
              "      </script>\n",
              "    </div>\n",
              "  </div>\n",
              "  "
            ]
          },
          "metadata": {},
          "execution_count": 62
        }
      ]
    },
    {
      "cell_type": "code",
      "source": [
        "z1 = scipy.stats.chi2_contingency(qz1, correction=False)[0]\n",
        "v = np.sum(z1)\n",
        "minimum_dimension = min(qz1.shape)-1\n",
        "vcram = np.sqrt((z1/v.sum()) / minimum_dimension)\n",
        "vcram"
      ],
      "metadata": {
        "colab": {
          "base_uri": "https://localhost:8080/"
        },
        "id": "_Pw28YtrBhyl",
        "outputId": "73db5e03-0e9d-41c6-faa3-33418ec196ea"
      },
      "execution_count": 63,
      "outputs": [
        {
          "output_type": "execute_result",
          "data": {
            "text/plain": [
              "0.5773502691896257"
            ]
          },
          "metadata": {},
          "execution_count": 63
        }
      ]
    },
    {
      "cell_type": "markdown",
      "source": [
        "В рамках описанного коэффициента V Крамера (Источник здесь ---> https://www.codecamp.ru/blog/cramers-v-in-python ). V Крамер - это мера силы связи между двумя номинальными переменными. Который измеряется в диапазоне между 0 и 1. Таким образом, на основе таблицы сопряжённости между показателями рабочего графика и рабочего стажа, значение которого колеблется от 0, т.е. нет корреляции до 1 - точная корреляция. Из приведённого вычисления видно, что корреляция между этими признаками равно 0.577. Таким образом, в данном случае, коэффициент V Крамера, носит достаточно устойчивый характер."
      ],
      "metadata": {
        "id": "FgnvCnwmCJ1g"
      }
    },
    {
      "cell_type": "code",
      "source": [
        "reg_rol_new['experience_numb'] = pd.Series()\n",
        "for l in range(len(reg_rol_new['experience_nm'])):\n",
        "    if reg_rol_new['experience_nm'].values[l] == 'Нет опыта':\n",
        "        reg_rol_new['experience_numb'].values[l] = 0\n",
        "    elif reg_rol_new['experience_nm'].values[l] == 'От 1 года до 3 лет':\n",
        "        reg_rol_new['experience_numb'].values[l] = 1\n",
        "    elif reg_rol_new['experience_nm'].values[l] == 'От 3 до 6 лет':\n",
        "        reg_rol_new['experience_numb'].values[l] = 2\n",
        "    elif reg_rol_new['experience_nm'].values[l] == 'Более 6 лет':\n",
        "        reg_rol_new['experience_numb'].values[l] = 3\n",
        "    l += 1\n",
        "reg_rol_new[['salary_from', 'experience_numb']].corr(method='spearman')"
      ],
      "metadata": {
        "colab": {
          "base_uri": "https://localhost:8080/",
          "height": 167
        },
        "id": "RRwo0AVHEaRD",
        "outputId": "cfdd4253-e7bd-4740-9d6b-5b51bda1d945"
      },
      "execution_count": 64,
      "outputs": [
        {
          "output_type": "stream",
          "name": "stderr",
          "text": [
            "/usr/local/lib/python3.7/dist-packages/ipykernel_launcher.py:1: DeprecationWarning: The default dtype for empty Series will be 'object' instead of 'float64' in a future version. Specify a dtype explicitly to silence this warning.\n",
            "  \"\"\"Entry point for launching an IPython kernel.\n"
          ]
        },
        {
          "output_type": "execute_result",
          "data": {
            "text/plain": [
              "                 salary_from  experience_numb\n",
              "salary_from         1.000000         0.355521\n",
              "experience_numb     0.355521         1.000000"
            ],
            "text/html": [
              "\n",
              "  <div id=\"df-a4784390-7498-4a31-bddc-13661e5ce318\">\n",
              "    <div class=\"colab-df-container\">\n",
              "      <div>\n",
              "<style scoped>\n",
              "    .dataframe tbody tr th:only-of-type {\n",
              "        vertical-align: middle;\n",
              "    }\n",
              "\n",
              "    .dataframe tbody tr th {\n",
              "        vertical-align: top;\n",
              "    }\n",
              "\n",
              "    .dataframe thead th {\n",
              "        text-align: right;\n",
              "    }\n",
              "</style>\n",
              "<table border=\"1\" class=\"dataframe\">\n",
              "  <thead>\n",
              "    <tr style=\"text-align: right;\">\n",
              "      <th></th>\n",
              "      <th>salary_from</th>\n",
              "      <th>experience_numb</th>\n",
              "    </tr>\n",
              "  </thead>\n",
              "  <tbody>\n",
              "    <tr>\n",
              "      <th>salary_from</th>\n",
              "      <td>1.000000</td>\n",
              "      <td>0.355521</td>\n",
              "    </tr>\n",
              "    <tr>\n",
              "      <th>experience_numb</th>\n",
              "      <td>0.355521</td>\n",
              "      <td>1.000000</td>\n",
              "    </tr>\n",
              "  </tbody>\n",
              "</table>\n",
              "</div>\n",
              "      <button class=\"colab-df-convert\" onclick=\"convertToInteractive('df-a4784390-7498-4a31-bddc-13661e5ce318')\"\n",
              "              title=\"Convert this dataframe to an interactive table.\"\n",
              "              style=\"display:none;\">\n",
              "        \n",
              "  <svg xmlns=\"http://www.w3.org/2000/svg\" height=\"24px\"viewBox=\"0 0 24 24\"\n",
              "       width=\"24px\">\n",
              "    <path d=\"M0 0h24v24H0V0z\" fill=\"none\"/>\n",
              "    <path d=\"M18.56 5.44l.94 2.06.94-2.06 2.06-.94-2.06-.94-.94-2.06-.94 2.06-2.06.94zm-11 1L8.5 8.5l.94-2.06 2.06-.94-2.06-.94L8.5 2.5l-.94 2.06-2.06.94zm10 10l.94 2.06.94-2.06 2.06-.94-2.06-.94-.94-2.06-.94 2.06-2.06.94z\"/><path d=\"M17.41 7.96l-1.37-1.37c-.4-.4-.92-.59-1.43-.59-.52 0-1.04.2-1.43.59L10.3 9.45l-7.72 7.72c-.78.78-.78 2.05 0 2.83L4 21.41c.39.39.9.59 1.41.59.51 0 1.02-.2 1.41-.59l7.78-7.78 2.81-2.81c.8-.78.8-2.07 0-2.86zM5.41 20L4 18.59l7.72-7.72 1.47 1.35L5.41 20z\"/>\n",
              "  </svg>\n",
              "      </button>\n",
              "      \n",
              "  <style>\n",
              "    .colab-df-container {\n",
              "      display:flex;\n",
              "      flex-wrap:wrap;\n",
              "      gap: 12px;\n",
              "    }\n",
              "\n",
              "    .colab-df-convert {\n",
              "      background-color: #E8F0FE;\n",
              "      border: none;\n",
              "      border-radius: 50%;\n",
              "      cursor: pointer;\n",
              "      display: none;\n",
              "      fill: #1967D2;\n",
              "      height: 32px;\n",
              "      padding: 0 0 0 0;\n",
              "      width: 32px;\n",
              "    }\n",
              "\n",
              "    .colab-df-convert:hover {\n",
              "      background-color: #E2EBFA;\n",
              "      box-shadow: 0px 1px 2px rgba(60, 64, 67, 0.3), 0px 1px 3px 1px rgba(60, 64, 67, 0.15);\n",
              "      fill: #174EA6;\n",
              "    }\n",
              "\n",
              "    [theme=dark] .colab-df-convert {\n",
              "      background-color: #3B4455;\n",
              "      fill: #D2E3FC;\n",
              "    }\n",
              "\n",
              "    [theme=dark] .colab-df-convert:hover {\n",
              "      background-color: #434B5C;\n",
              "      box-shadow: 0px 1px 3px 1px rgba(0, 0, 0, 0.15);\n",
              "      filter: drop-shadow(0px 1px 2px rgba(0, 0, 0, 0.3));\n",
              "      fill: #FFFFFF;\n",
              "    }\n",
              "  </style>\n",
              "\n",
              "      <script>\n",
              "        const buttonEl =\n",
              "          document.querySelector('#df-a4784390-7498-4a31-bddc-13661e5ce318 button.colab-df-convert');\n",
              "        buttonEl.style.display =\n",
              "          google.colab.kernel.accessAllowed ? 'block' : 'none';\n",
              "\n",
              "        async function convertToInteractive(key) {\n",
              "          const element = document.querySelector('#df-a4784390-7498-4a31-bddc-13661e5ce318');\n",
              "          const dataTable =\n",
              "            await google.colab.kernel.invokeFunction('convertToInteractive',\n",
              "                                                     [key], {});\n",
              "          if (!dataTable) return;\n",
              "\n",
              "          const docLinkHtml = 'Like what you see? Visit the ' +\n",
              "            '<a target=\"_blank\" href=https://colab.research.google.com/notebooks/data_table.ipynb>data table notebook</a>'\n",
              "            + ' to learn more about interactive tables.';\n",
              "          element.innerHTML = '';\n",
              "          dataTable['output_type'] = 'display_data';\n",
              "          await google.colab.output.renderOutput(dataTable, element);\n",
              "          const docLink = document.createElement('div');\n",
              "          docLink.innerHTML = docLinkHtml;\n",
              "          element.appendChild(docLink);\n",
              "        }\n",
              "      </script>\n",
              "    </div>\n",
              "  </div>\n",
              "  "
            ]
          },
          "metadata": {},
          "execution_count": 64
        }
      ]
    },
    {
      "cell_type": "code",
      "source": [
        "reg_rol_new.plot('experience_numb','salary_from', kind=\"scatter\")"
      ],
      "metadata": {
        "colab": {
          "base_uri": "https://localhost:8080/",
          "height": 308
        },
        "id": "PQ3Wva4wNZei",
        "outputId": "35c6b7ef-70f1-41e1-91c3-0fab54eec29d"
      },
      "execution_count": 65,
      "outputs": [
        {
          "output_type": "execute_result",
          "data": {
            "text/plain": [
              "<matplotlib.axes._subplots.AxesSubplot at 0x7f2ddeaae210>"
            ]
          },
          "metadata": {},
          "execution_count": 65
        },
        {
          "output_type": "display_data",
          "data": {
            "text/plain": [
              "<Figure size 432x288 with 1 Axes>"
            ],
            "image/png": "[encoded data removed]"
          },
          "metadata": {
            "needs_background": "light"
          }
        }
      ]
    },
    {
      "cell_type": "code",
      "source": [
        "scipy.stats.spearmanr(reg_rol_new.salary_from, reg_rol_new.experience_numb)"
      ],
      "metadata": {
        "colab": {
          "base_uri": "https://localhost:8080/"
        },
        "id": "P0FuNOizNpuG",
        "outputId": "9a159950-ab13-488a-bd9a-54f25a116f38"
      },
      "execution_count": 66,
      "outputs": [
        {
          "output_type": "execute_result",
          "data": {
            "text/plain": [
              "SpearmanrResult(correlation=0.35552058865473873, pvalue=0.0)"
            ]
          },
          "metadata": {},
          "execution_count": 66
        }
      ]
    },
    {
      "cell_type": "markdown",
      "source": [
        "В рамках критерия ранговой корреляции Спирмена, коррелируются факторы зарплаты и стажа работы. С этой целью, всем факторам стажа работы, присваивается ранг от 0 до 3. Таким образом, получается: у фактора - \"Нет опыта\" - ранг 0, у фактора \"От 1 года до 3 лет\" - ранг 1, \"От 3 до 6 лет\" - ранг 2. И соответственно, у фактора \"Более 6 лет\" - ранг 3. \n",
        "В DataSet, создаётся соответствующая колонка с описанными выше рангами. Затем, она сопоставляется со столбцом зарплаты. Результатом является значение, в нашем случае: 0.3555. Таким образом, констатируем тот факт, что связь прямая и слабая. Коэффициент P-value оценки достоверности критерия Спирмена(pvalue) составил 0.0 . И в данном случае, этот фактор говорит нам о том, что коэффициент корреляции Спирмена для двух указанных признаков, является достоверным.\n",
        "\n",
        "* Гипотеза 1:\n",
        "\n",
        "Чем больше вакансий в регионе, тем выше средний уровень зарплаты в регионе.\n",
        "\n",
        "Структурированные данные для проверки гипотезы 1: \n",
        "- Столбец \"Регион\" и столбец \"Начальная зарплата\" (reg_rol_new['region'] и reg_rol_new['salary_from']).\n",
        "\n",
        "Тип данных: \n",
        "- Числовые данные (начальная зарплата) ; \n",
        "- Категориальные данные (регион) ; \n",
        "После преобразования: \n",
        "- Числовые данные (средняя зарплата по региону) ;\n",
        "- Числовые данные (количество вакансий по региону) ;\n",
        "\n",
        "Выбранный метод анализа: коэффициент корреляции Спирмена\n",
        "(Источник информации здесь ---> https://www.codecamp.ru/blog/spearman-correlation-python )\n",
        "\n",
        "Порядок применения метода анализа, заключается в следующем:\n",
        "Столбцы, \"Регион\" и \"Начальная зарплата\", группируются по среднему значению зарплаты. С целью того, чтобы создать список средних зарплат по каждому региону."
      ],
      "metadata": {
        "id": "Z55CxKWbN4_4"
      }
    },
    {
      "cell_type": "code",
      "source": [
        "salary_reg_rol_mean = reg_rol_new.groupby('region')['salary_from'].mean().apply(int)\n",
        "salary_reg_rol_mean"
      ],
      "metadata": {
        "colab": {
          "base_uri": "https://localhost:8080/"
        },
        "id": "XMfEmJSkRW27",
        "outputId": "cb394ca7-d5b7-4ff8-db1e-6a02b1fe875c"
      },
      "execution_count": 67,
      "outputs": [
        {
          "output_type": "execute_result",
          "data": {
            "text/plain": [
              "region\n",
              "Алтайский край           50949\n",
              "Амурская область         48978\n",
              "Архангельская область    49606\n",
              "Астраханская область     43436\n",
              "Белгородская область     55475\n",
              "                         ...  \n",
              "Челябинская область      60324\n",
              "Чеченская республика     42263\n",
              "Чувашская Республика     44522\n",
              "Ямало-Ненецкий АО        60034\n",
              "Ярославская область      61611\n",
              "Name: salary_from, Length: 82, dtype: int64"
            ]
          },
          "metadata": {},
          "execution_count": 67
        }
      ]
    },
    {
      "cell_type": "markdown",
      "source": [
        "После приведённых выше исчислений, создаём отдельный DataSet с двумя Столбцами. \n",
        "- В одном столбце указываем, перечень средних зарплат по регионам ;\n",
        "- В другом столбце указываем, количество вакансий по регионам. \n",
        "Как видно из вывода DataSet, в нём имеется 82 записи."
      ],
      "metadata": {
        "id": "zoyQbEChRp19"
      }
    },
    {
      "cell_type": "code",
      "source": [
        "hpr = pd.DataFrame()\n",
        "hpr['region_vac_count'] = region_vac_count\n",
        "hpr['salary_reg_rol_mean'] = salary_reg_rol_mean\n",
        "hpr"
      ],
      "metadata": {
        "colab": {
          "base_uri": "https://localhost:8080/",
          "height": 424
        },
        "id": "zwtog1DDSSqa",
        "outputId": "01b20eff-f095-401e-ff4e-b0868c57eb7b"
      },
      "execution_count": 68,
      "outputs": [
        {
          "output_type": "execute_result",
          "data": {
            "text/plain": [
              "                                 region_vac_count  salary_reg_rol_mean\n",
              "Москва                                       6610               109774\n",
              "Санкт-Петербург                              3261                92993\n",
              "Краснодарский край                           2253               124118\n",
              "Московская область                           1492                74291\n",
              "Свердловская область                         1309                70449\n",
              "...                                           ...                  ...\n",
              "Карачаево-Черкесская Республика                10                29300\n",
              "Еврейская АО                                    6                40833\n",
              "Республика Тыва                                 5                27400\n",
              "Республика Ингушетия                            5                24200\n",
              "Республика Калмыкия                             5                38776\n",
              "\n",
              "[82 rows x 2 columns]"
            ],
            "text/html": [
              "\n",
              "  <div id=\"df-ce2372ac-a70f-4ab1-917b-0660ce49eccb\">\n",
              "    <div class=\"colab-df-container\">\n",
              "      <div>\n",
              "<style scoped>\n",
              "    .dataframe tbody tr th:only-of-type {\n",
              "        vertical-align: middle;\n",
              "    }\n",
              "\n",
              "    .dataframe tbody tr th {\n",
              "        vertical-align: top;\n",
              "    }\n",
              "\n",
              "    .dataframe thead th {\n",
              "        text-align: right;\n",
              "    }\n",
              "</style>\n",
              "<table border=\"1\" class=\"dataframe\">\n",
              "  <thead>\n",
              "    <tr style=\"text-align: right;\">\n",
              "      <th></th>\n",
              "      <th>region_vac_count</th>\n",
              "      <th>salary_reg_rol_mean</th>\n",
              "    </tr>\n",
              "  </thead>\n",
              "  <tbody>\n",
              "    <tr>\n",
              "      <th>Москва</th>\n",
              "      <td>6610</td>\n",
              "      <td>109774</td>\n",
              "    </tr>\n",
              "    <tr>\n",
              "      <th>Санкт-Петербург</th>\n",
              "      <td>3261</td>\n",
              "      <td>92993</td>\n",
              "    </tr>\n",
              "    <tr>\n",
              "      <th>Краснодарский край</th>\n",
              "      <td>2253</td>\n",
              "      <td>124118</td>\n",
              "    </tr>\n",
              "    <tr>\n",
              "      <th>Московская область</th>\n",
              "      <td>1492</td>\n",
              "      <td>74291</td>\n",
              "    </tr>\n",
              "    <tr>\n",
              "      <th>Свердловская область</th>\n",
              "      <td>1309</td>\n",
              "      <td>70449</td>\n",
              "    </tr>\n",
              "    <tr>\n",
              "      <th>...</th>\n",
              "      <td>...</td>\n",
              "      <td>...</td>\n",
              "    </tr>\n",
              "    <tr>\n",
              "      <th>Карачаево-Черкесская Республика</th>\n",
              "      <td>10</td>\n",
              "      <td>29300</td>\n",
              "    </tr>\n",
              "    <tr>\n",
              "      <th>Еврейская АО</th>\n",
              "      <td>6</td>\n",
              "      <td>40833</td>\n",
              "    </tr>\n",
              "    <tr>\n",
              "      <th>Республика Тыва</th>\n",
              "      <td>5</td>\n",
              "      <td>27400</td>\n",
              "    </tr>\n",
              "    <tr>\n",
              "      <th>Республика Ингушетия</th>\n",
              "      <td>5</td>\n",
              "      <td>24200</td>\n",
              "    </tr>\n",
              "    <tr>\n",
              "      <th>Республика Калмыкия</th>\n",
              "      <td>5</td>\n",
              "      <td>38776</td>\n",
              "    </tr>\n",
              "  </tbody>\n",
              "</table>\n",
              "<p>82 rows × 2 columns</p>\n",
              "</div>\n",
              "      <button class=\"colab-df-convert\" onclick=\"convertToInteractive('df-ce2372ac-a70f-4ab1-917b-0660ce49eccb')\"\n",
              "              title=\"Convert this dataframe to an interactive table.\"\n",
              "              style=\"display:none;\">\n",
              "        \n",
              "  <svg xmlns=\"http://www.w3.org/2000/svg\" height=\"24px\"viewBox=\"0 0 24 24\"\n",
              "       width=\"24px\">\n",
              "    <path d=\"M0 0h24v24H0V0z\" fill=\"none\"/>\n",
              "    <path d=\"M18.56 5.44l.94 2.06.94-2.06 2.06-.94-2.06-.94-.94-2.06-.94 2.06-2.06.94zm-11 1L8.5 8.5l.94-2.06 2.06-.94-2.06-.94L8.5 2.5l-.94 2.06-2.06.94zm10 10l.94 2.06.94-2.06 2.06-.94-2.06-.94-.94-2.06-.94 2.06-2.06.94z\"/><path d=\"M17.41 7.96l-1.37-1.37c-.4-.4-.92-.59-1.43-.59-.52 0-1.04.2-1.43.59L10.3 9.45l-7.72 7.72c-.78.78-.78 2.05 0 2.83L4 21.41c.39.39.9.59 1.41.59.51 0 1.02-.2 1.41-.59l7.78-7.78 2.81-2.81c.8-.78.8-2.07 0-2.86zM5.41 20L4 18.59l7.72-7.72 1.47 1.35L5.41 20z\"/>\n",
              "  </svg>\n",
              "      </button>\n",
              "      \n",
              "  <style>\n",
              "    .colab-df-container {\n",
              "      display:flex;\n",
              "      flex-wrap:wrap;\n",
              "      gap: 12px;\n",
              "    }\n",
              "\n",
              "    .colab-df-convert {\n",
              "      background-color: #E8F0FE;\n",
              "      border: none;\n",
              "      border-radius: 50%;\n",
              "      cursor: pointer;\n",
              "      display: none;\n",
              "      fill: #1967D2;\n",
              "      height: 32px;\n",
              "      padding: 0 0 0 0;\n",
              "      width: 32px;\n",
              "    }\n",
              "\n",
              "    .colab-df-convert:hover {\n",
              "      background-color: #E2EBFA;\n",
              "      box-shadow: 0px 1px 2px rgba(60, 64, 67, 0.3), 0px 1px 3px 1px rgba(60, 64, 67, 0.15);\n",
              "      fill: #174EA6;\n",
              "    }\n",
              "\n",
              "    [theme=dark] .colab-df-convert {\n",
              "      background-color: #3B4455;\n",
              "      fill: #D2E3FC;\n",
              "    }\n",
              "\n",
              "    [theme=dark] .colab-df-convert:hover {\n",
              "      background-color: #434B5C;\n",
              "      box-shadow: 0px 1px 3px 1px rgba(0, 0, 0, 0.15);\n",
              "      filter: drop-shadow(0px 1px 2px rgba(0, 0, 0, 0.3));\n",
              "      fill: #FFFFFF;\n",
              "    }\n",
              "  </style>\n",
              "\n",
              "      <script>\n",
              "        const buttonEl =\n",
              "          document.querySelector('#df-ce2372ac-a70f-4ab1-917b-0660ce49eccb button.colab-df-convert');\n",
              "        buttonEl.style.display =\n",
              "          google.colab.kernel.accessAllowed ? 'block' : 'none';\n",
              "\n",
              "        async function convertToInteractive(key) {\n",
              "          const element = document.querySelector('#df-ce2372ac-a70f-4ab1-917b-0660ce49eccb');\n",
              "          const dataTable =\n",
              "            await google.colab.kernel.invokeFunction('convertToInteractive',\n",
              "                                                     [key], {});\n",
              "          if (!dataTable) return;\n",
              "\n",
              "          const docLinkHtml = 'Like what you see? Visit the ' +\n",
              "            '<a target=\"_blank\" href=https://colab.research.google.com/notebooks/data_table.ipynb>data table notebook</a>'\n",
              "            + ' to learn more about interactive tables.';\n",
              "          element.innerHTML = '';\n",
              "          dataTable['output_type'] = 'display_data';\n",
              "          await google.colab.output.renderOutput(dataTable, element);\n",
              "          const docLink = document.createElement('div');\n",
              "          docLink.innerHTML = docLinkHtml;\n",
              "          element.appendChild(docLink);\n",
              "        }\n",
              "      </script>\n",
              "    </div>\n",
              "  </div>\n",
              "  "
            ]
          },
          "metadata": {},
          "execution_count": 68
        }
      ]
    },
    {
      "cell_type": "markdown",
      "source": [
        "Далее оба столбца проверяются на нормальность с помощью теста Шапиро-Уилка."
      ],
      "metadata": {
        "id": "e3HJd11UUMVR"
      }
    },
    {
      "cell_type": "code",
      "source": [
        "scipy.stats.shapiro(hpr['salary_reg_rol_mean'])"
      ],
      "metadata": {
        "colab": {
          "base_uri": "https://localhost:8080/"
        },
        "id": "NI-OP8qtUdhf",
        "outputId": "95ef406a-2a12-4320-ffe7-4d10ac59d0ac"
      },
      "execution_count": 69,
      "outputs": [
        {
          "output_type": "execute_result",
          "data": {
            "text/plain": [
              "ShapiroResult(statistic=0.8868588209152222, pvalue=2.7870055419043638e-06)"
            ]
          },
          "metadata": {},
          "execution_count": 69
        }
      ]
    },
    {
      "cell_type": "code",
      "source": [
        "scipy.stats.shapiro(hpr['region_vac_count'])"
      ],
      "metadata": {
        "colab": {
          "base_uri": "https://localhost:8080/"
        },
        "id": "ahhhvttjUxrm",
        "outputId": "5a0d22cd-9742-49c7-906c-fdcfff7a04bb"
      },
      "execution_count": 70,
      "outputs": [
        {
          "output_type": "execute_result",
          "data": {
            "text/plain": [
              "ShapiroResult(statistic=0.4273536801338196, pvalue=2.747800027183572e-16)"
            ]
          },
          "metadata": {},
          "execution_count": 70
        }
      ]
    },
    {
      "cell_type": "markdown",
      "source": [
        "У обеих столбцов, коэффициент p-value, достаточно мал. Что в свою очередь, говорит о том, что обе выборки распределены ненормально. Далее необходимо проверить независимость обеих воборок. И поскольку они распределены ненормально, необходимо использовать тест Левена. (Источник здесь ---> https://docs.scipy.org/doc/scipy/reference/generated/scipy.stats.levene.html )"
      ],
      "metadata": {
        "id": "B78CJ1nOU9ge"
      }
    },
    {
      "cell_type": "code",
      "source": [
        "from scipy.stats import levene\n",
        "\n",
        "stat, p = levene(hpr['salary_reg_rol_mean'], hpr['region_vac_count'])\n",
        "p"
      ],
      "metadata": {
        "colab": {
          "base_uri": "https://localhost:8080/"
        },
        "id": "wTQa3coDVs-m",
        "outputId": "afd0e2e6-ae64-4fc6-f222-418549db8e4e"
      },
      "execution_count": 71,
      "outputs": [
        {
          "output_type": "execute_result",
          "data": {
            "text/plain": [
              "3.003311357330946e-14"
            ]
          },
          "metadata": {},
          "execution_count": 71
        }
      ]
    },
    {
      "cell_type": "markdown",
      "source": [
        "Коэффициент P-value, из теста Левена для столбцов, демонстрирует очень маленькое значение, из чего можно сделать вывод, что выборки независимые. \n",
        "Таким образом, построить корреляцию двух числовых факторов, независимых и распределённых ненормально, можно с помощью критерия корреляции Спирмена."
      ],
      "metadata": {
        "id": "3Bf8evrEV6u_"
      }
    },
    {
      "cell_type": "code",
      "source": [
        "scipy.stats.spearmanr(hpr['region_vac_count'], hpr['salary_reg_rol_mean'])"
      ],
      "metadata": {
        "colab": {
          "base_uri": "https://localhost:8080/"
        },
        "id": "r8DKVAqaWTNT",
        "outputId": "d65fd9d9-53f5-4b13-d739-41c28e6b952f"
      },
      "execution_count": 72,
      "outputs": [
        {
          "output_type": "execute_result",
          "data": {
            "text/plain": [
              "SpearmanrResult(correlation=0.6684044979505204, pvalue=6.824400009353553e-12)"
            ]
          },
          "metadata": {},
          "execution_count": 72
        }
      ]
    },
    {
      "cell_type": "code",
      "source": [
        "hpr[['region_vac_count', 'salary_reg_rol_mean']].corr(method='spearman')"
      ],
      "metadata": {
        "colab": {
          "base_uri": "https://localhost:8080/",
          "height": 112
        },
        "id": "vZGZRo_6We7o",
        "outputId": "e972eaf5-09ad-4db8-dc1a-4a26ff17f2c9"
      },
      "execution_count": 73,
      "outputs": [
        {
          "output_type": "execute_result",
          "data": {
            "text/plain": [
              "                     region_vac_count  salary_reg_rol_mean\n",
              "region_vac_count             1.000000             0.668404\n",
              "salary_reg_rol_mean          0.668404             1.000000"
            ],
            "text/html": [
              "\n",
              "  <div id=\"df-e9483f54-a00a-46cf-b1f2-38b0131bac1b\">\n",
              "    <div class=\"colab-df-container\">\n",
              "      <div>\n",
              "<style scoped>\n",
              "    .dataframe tbody tr th:only-of-type {\n",
              "        vertical-align: middle;\n",
              "    }\n",
              "\n",
              "    .dataframe tbody tr th {\n",
              "        vertical-align: top;\n",
              "    }\n",
              "\n",
              "    .dataframe thead th {\n",
              "        text-align: right;\n",
              "    }\n",
              "</style>\n",
              "<table border=\"1\" class=\"dataframe\">\n",
              "  <thead>\n",
              "    <tr style=\"text-align: right;\">\n",
              "      <th></th>\n",
              "      <th>region_vac_count</th>\n",
              "      <th>salary_reg_rol_mean</th>\n",
              "    </tr>\n",
              "  </thead>\n",
              "  <tbody>\n",
              "    <tr>\n",
              "      <th>region_vac_count</th>\n",
              "      <td>1.000000</td>\n",
              "      <td>0.668404</td>\n",
              "    </tr>\n",
              "    <tr>\n",
              "      <th>salary_reg_rol_mean</th>\n",
              "      <td>0.668404</td>\n",
              "      <td>1.000000</td>\n",
              "    </tr>\n",
              "  </tbody>\n",
              "</table>\n",
              "</div>\n",
              "      <button class=\"colab-df-convert\" onclick=\"convertToInteractive('df-e9483f54-a00a-46cf-b1f2-38b0131bac1b')\"\n",
              "              title=\"Convert this dataframe to an interactive table.\"\n",
              "              style=\"display:none;\">\n",
              "        \n",
              "  <svg xmlns=\"http://www.w3.org/2000/svg\" height=\"24px\"viewBox=\"0 0 24 24\"\n",
              "       width=\"24px\">\n",
              "    <path d=\"M0 0h24v24H0V0z\" fill=\"none\"/>\n",
              "    <path d=\"M18.56 5.44l.94 2.06.94-2.06 2.06-.94-2.06-.94-.94-2.06-.94 2.06-2.06.94zm-11 1L8.5 8.5l.94-2.06 2.06-.94-2.06-.94L8.5 2.5l-.94 2.06-2.06.94zm10 10l.94 2.06.94-2.06 2.06-.94-2.06-.94-.94-2.06-.94 2.06-2.06.94z\"/><path d=\"M17.41 7.96l-1.37-1.37c-.4-.4-.92-.59-1.43-.59-.52 0-1.04.2-1.43.59L10.3 9.45l-7.72 7.72c-.78.78-.78 2.05 0 2.83L4 21.41c.39.39.9.59 1.41.59.51 0 1.02-.2 1.41-.59l7.78-7.78 2.81-2.81c.8-.78.8-2.07 0-2.86zM5.41 20L4 18.59l7.72-7.72 1.47 1.35L5.41 20z\"/>\n",
              "  </svg>\n",
              "      </button>\n",
              "      \n",
              "  <style>\n",
              "    .colab-df-container {\n",
              "      display:flex;\n",
              "      flex-wrap:wrap;\n",
              "      gap: 12px;\n",
              "    }\n",
              "\n",
              "    .colab-df-convert {\n",
              "      background-color: #E8F0FE;\n",
              "      border: none;\n",
              "      border-radius: 50%;\n",
              "      cursor: pointer;\n",
              "      display: none;\n",
              "      fill: #1967D2;\n",
              "      height: 32px;\n",
              "      padding: 0 0 0 0;\n",
              "      width: 32px;\n",
              "    }\n",
              "\n",
              "    .colab-df-convert:hover {\n",
              "      background-color: #E2EBFA;\n",
              "      box-shadow: 0px 1px 2px rgba(60, 64, 67, 0.3), 0px 1px 3px 1px rgba(60, 64, 67, 0.15);\n",
              "      fill: #174EA6;\n",
              "    }\n",
              "\n",
              "    [theme=dark] .colab-df-convert {\n",
              "      background-color: #3B4455;\n",
              "      fill: #D2E3FC;\n",
              "    }\n",
              "\n",
              "    [theme=dark] .colab-df-convert:hover {\n",
              "      background-color: #434B5C;\n",
              "      box-shadow: 0px 1px 3px 1px rgba(0, 0, 0, 0.15);\n",
              "      filter: drop-shadow(0px 1px 2px rgba(0, 0, 0, 0.3));\n",
              "      fill: #FFFFFF;\n",
              "    }\n",
              "  </style>\n",
              "\n",
              "      <script>\n",
              "        const buttonEl =\n",
              "          document.querySelector('#df-e9483f54-a00a-46cf-b1f2-38b0131bac1b button.colab-df-convert');\n",
              "        buttonEl.style.display =\n",
              "          google.colab.kernel.accessAllowed ? 'block' : 'none';\n",
              "\n",
              "        async function convertToInteractive(key) {\n",
              "          const element = document.querySelector('#df-e9483f54-a00a-46cf-b1f2-38b0131bac1b');\n",
              "          const dataTable =\n",
              "            await google.colab.kernel.invokeFunction('convertToInteractive',\n",
              "                                                     [key], {});\n",
              "          if (!dataTable) return;\n",
              "\n",
              "          const docLinkHtml = 'Like what you see? Visit the ' +\n",
              "            '<a target=\"_blank\" href=https://colab.research.google.com/notebooks/data_table.ipynb>data table notebook</a>'\n",
              "            + ' to learn more about interactive tables.';\n",
              "          element.innerHTML = '';\n",
              "          dataTable['output_type'] = 'display_data';\n",
              "          await google.colab.output.renderOutput(dataTable, element);\n",
              "          const docLink = document.createElement('div');\n",
              "          docLink.innerHTML = docLinkHtml;\n",
              "          element.appendChild(docLink);\n",
              "        }\n",
              "      </script>\n",
              "    </div>\n",
              "  </div>\n",
              "  "
            ]
          },
          "metadata": {},
          "execution_count": 73
        }
      ]
    },
    {
      "cell_type": "markdown",
      "source": [
        "Таким образом, коэффициент корреляции составил 0.66, что говорит о устойчивой прямой корреляции. Коэффициент p-value составил 3.0033 в -14 степени. Что существенно меньше 0.66, а значит, выборки коррелируют с высокой достоверностью."
      ],
      "metadata": {
        "id": "eD6StEGwWpeC"
      }
    },
    {
      "cell_type": "markdown",
      "source": [
        "Отображаем Визуализацию:"
      ],
      "metadata": {
        "id": "kdMzfZzPXYQy"
      }
    },
    {
      "cell_type": "code",
      "source": [
        "plt.figure(figsize=(22, 10))\n",
        "sns.lmplot(x='region_vac_count', y='salary_reg_rol_mean', data=hpr, height=8, aspect=2)"
      ],
      "metadata": {
        "colab": {
          "base_uri": "https://localhost:8080/",
          "height": 620
        },
        "id": "iO17R-gCXeoG",
        "outputId": "1f590484-3a39-4a65-9c0d-6020e05c22bc"
      },
      "execution_count": 74,
      "outputs": [
        {
          "output_type": "execute_result",
          "data": {
            "text/plain": [
              "<seaborn.axisgrid.FacetGrid at 0x7f2ddf966390>"
            ]
          },
          "metadata": {},
          "execution_count": 74
        },
        {
          "output_type": "display_data",
          "data": {
            "text/plain": [
              "<Figure size 1584x720 with 0 Axes>"
            ]
          },
          "metadata": {}
        },
        {
          "output_type": "display_data",
          "data": {
            "text/plain": [
              "<Figure size 1152x576 with 1 Axes>"
            ],
            "image/png": "[encoded data removed]"
          },
          "metadata": {
            "needs_background": "light"
          }
        }
      ]
    },
    {
      "cell_type": "markdown",
      "source": [
        "На графике рассеяния, мы видим, что заметна тенденция распределения от нижнего левого до правого верхнего угла. Это в свою очередь говорит о том, что имеется прямая корреляция.\n",
        "В месте с тем, на графике представлена аппроксимирующая прямая линейной зависимости, на примере которой можно установить, что распределение лучше описывается не линейной функцией, а функцией, приближённой к логарифмической."
      ],
      "metadata": {
        "id": "r-LSrJ3vX0iG"
      }
    },
    {
      "cell_type": "markdown",
      "source": [
        "Результат реализации выбранного метода. \n",
        "1. Метод выбран с помощью создания двух выборок. Из расчёта одна выборка на один фактор проверки на их нормальность и независимость. \n",
        "2. С помощью выбранного метода видна выраженная и достоверная, прямая корреляция между выбранными факторами. \n",
        "3. График распределения, так же продемонстрировал соответствующую тенденцию.\n",
        "\n",
        "На основании этого, делаем Вывод.\n",
        "\n",
        " - Вывод: гипотеза правдоподобна."
      ],
      "metadata": {
        "id": "Ty1yI3vmYWwx"
      }
    },
    {
      "cell_type": "markdown",
      "source": [
        "Дополнительно еще раз фиксируем следующие факторы:\n",
        "\n",
        "Выводы Статистического исследования(анализа) показали, что:\n",
        "\n",
        "1. По критерию Краскала-Уолиса обнаружена выраженная связь между факторами рабочего опыта и минимальной зарплаты;\n",
        "\n",
        "2. По анализу таблиц сопряжённости для факторов опыта работы и региона на выборке 14-ти регионов по числу вакансий был обнаружен сбивчивый параллелизм роста(то есть параллелизм – это возникновение двух или более событий одновременно. Параллелизм – это естественное явление, потому что многие события происходят одновременно в любой момент времени) и убывания общего числа вакансий по региону и числа вакансий у каждой отдельной категории опыта по региону. \n",
        "При этом, наиболее устойчивую и выраженную тенденцию продемонстрировала категория опыта \"От 1 года до 3 лет\", которая в 13 из 14 регионов была крупнейшей представленной категорией, а её кол-во вакансий росло/убывало параллельно росту/убыванию общего числа вакансий по региону в 12 случаях из 14.\n",
        "\n",
        "3. Корреляционный анализ по критерию V Крамера между факторами рабочего графика и опыта работы на основе таблицы сопряжённости между этими двумя факторами показал достаточно устойчивый характер корреляции (0,577). Корреляционный анализ Спирмена для факторов минимальной зарплаты и рабочего опыта, последний из которых был закодирован числами от 0 до 3 для каждой из представленных четырёх категорий, показал устойчивый характер корреляции (0,6684).\n",
        "\n",
        "4) Сформулированная гипотеза о том, что средняя минимальная зарплата в регионе состоит в прямой зависимости с числом вакансий по региону, была проверена с помощью коэффициента корреляции Спирмена на выборках средней зарплаты по региону и количества вакансий по региону. Обе являются числовыми. Коэффициент составил более 0,66 (прямая и умеренная связь), p-value коэффициента равен 3.0033 в -14 степени, что говорит о высокой достоверности коэффициента. Таким образом, гипотеза была признана правдоподобной."
      ],
      "metadata": {
        "id": "kD5C4K7PZMSx"
      }
    },
    {
      "cell_type": "code",
      "source": [
        "reg_rol_new.to_csv('/content/drive/MyDrive/Colab Notebooks/reg_rol_stat.csv')"
      ],
      "metadata": {
        "id": "o0B9LgkK8lg6"
      },
      "execution_count": 79,
      "outputs": []
    },
    {
      "cell_type": "code",
      "source": [
        "reg_rol_flt.to_csv('/content/drive/MyDrive/Colab Notebooks/reg_rol_stat3.csv')"
      ],
      "metadata": {
        "id": "OqdVS9aWO5os"
      },
      "execution_count": 80,
      "outputs": []
    },
    {
      "cell_type": "code",
      "source": [
        "reg_rol_flt_reg_vc.to_csv('/content/drive/MyDrive/Colab Notebooks/reg_rol_stat4.csv')"
      ],
      "metadata": {
        "id": "ur6pPXMOPLEN"
      },
      "execution_count": 81,
      "outputs": []
    },
    {
      "cell_type": "code",
      "source": [
        "reg_rol_flt_reg.to_csv('/content/drive/MyDrive/Colab Notebooks/reg_rol_stat5.csv')"
      ],
      "metadata": {
        "id": "tK8StBzoPVUs"
      },
      "execution_count": 82,
      "outputs": []
    },
    {
      "cell_type": "code",
      "source": [
        "reg_rol_fr_vc_sum.to_csv('/content/drive/MyDrive/Colab Notebooks/reg_rol_stat2.csv')"
      ],
      "metadata": {
        "id": "SrnoVS8_PeyA"
      },
      "execution_count": 83,
      "outputs": []
    },
    {
      "cell_type": "code",
      "source": [
        "reg_rol_new.to_csv('/content/drive/MyDrive/Colab Notebooks/reg_rol_stat6.csv')"
      ],
      "metadata": {
        "id": "trMpEIprPnqz"
      },
      "execution_count": 84,
      "outputs": []
    },
    {
      "cell_type": "code",
      "source": [
        "salary_reg_rol_mean.to_csv('/content/drive/MyDrive/Colab Notebooks/reg_rol_stat.csv')"
      ],
      "metadata": {
        "id": "S-4AzuxiPuD6"
      },
      "execution_count": 85,
      "outputs": []
    }
  ]
}